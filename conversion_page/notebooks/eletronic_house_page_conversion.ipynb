{
 "cells": [
  {
   "cell_type": "markdown",
   "id": "1083d84d",
   "metadata": {
    "ExecuteTime": {
     "end_time": "2022-11-24T16:16:46.570709Z",
     "start_time": "2022-11-24T16:16:46.559738Z"
    }
   },
   "source": [
    "# 0.0 - Imports"
   ]
  },
  {
   "cell_type": "code",
   "execution_count": 23,
   "id": "23415276",
   "metadata": {
    "ExecuteTime": {
     "end_time": "2022-12-28T16:11:21.436894Z",
     "start_time": "2022-12-28T16:11:21.417943Z"
    }
   },
   "outputs": [],
   "source": [
    "import pandas  as pd\n",
    "import numpy   as np\n",
    "import seaborn as sns \n",
    "import math\n",
    "\n",
    "from scipy.stats       import shapiro, bartlett \n",
    "from statsmodels.stats import power, proportion, gof"
   ]
  },
  {
   "cell_type": "markdown",
   "id": "3f6a3a55",
   "metadata": {
    "heading_collapsed": true
   },
   "source": [
    "## 0.1 - Helper Functions"
   ]
  },
  {
   "cell_type": "markdown",
   "id": "df068083",
   "metadata": {},
   "source": [
    "##  0.2 - Carregamento dos Dados"
   ]
  },
  {
   "cell_type": "code",
   "execution_count": 5,
   "id": "0df50e45",
   "metadata": {
    "ExecuteTime": {
     "end_time": "2022-12-28T15:54:58.215870Z",
     "start_time": "2022-12-28T15:54:57.866765Z"
    }
   },
   "outputs": [
    {
     "data": {
      "text/html": [
       "<div>\n",
       "<style scoped>\n",
       "    .dataframe tbody tr th:only-of-type {\n",
       "        vertical-align: middle;\n",
       "    }\n",
       "\n",
       "    .dataframe tbody tr th {\n",
       "        vertical-align: top;\n",
       "    }\n",
       "\n",
       "    .dataframe thead th {\n",
       "        text-align: right;\n",
       "    }\n",
       "</style>\n",
       "<table border=\"1\" class=\"dataframe\">\n",
       "  <thead>\n",
       "    <tr style=\"text-align: right;\">\n",
       "      <th></th>\n",
       "      <th>user_id</th>\n",
       "      <th>timestamp</th>\n",
       "      <th>group</th>\n",
       "      <th>landing_page</th>\n",
       "      <th>converted</th>\n",
       "    </tr>\n",
       "  </thead>\n",
       "  <tbody>\n",
       "    <tr>\n",
       "      <th>0</th>\n",
       "      <td>851104</td>\n",
       "      <td>2017-01-21 22:11:48.556739</td>\n",
       "      <td>control</td>\n",
       "      <td>old_page</td>\n",
       "      <td>0</td>\n",
       "    </tr>\n",
       "    <tr>\n",
       "      <th>1</th>\n",
       "      <td>804228</td>\n",
       "      <td>2017-01-12 08:01:45.159739</td>\n",
       "      <td>control</td>\n",
       "      <td>old_page</td>\n",
       "      <td>0</td>\n",
       "    </tr>\n",
       "    <tr>\n",
       "      <th>2</th>\n",
       "      <td>661590</td>\n",
       "      <td>2017-01-11 16:55:06.154213</td>\n",
       "      <td>treatment</td>\n",
       "      <td>new_page</td>\n",
       "      <td>0</td>\n",
       "    </tr>\n",
       "    <tr>\n",
       "      <th>3</th>\n",
       "      <td>853541</td>\n",
       "      <td>2017-01-08 18:28:03.143765</td>\n",
       "      <td>treatment</td>\n",
       "      <td>new_page</td>\n",
       "      <td>0</td>\n",
       "    </tr>\n",
       "    <tr>\n",
       "      <th>4</th>\n",
       "      <td>864975</td>\n",
       "      <td>2017-01-21 01:52:26.210827</td>\n",
       "      <td>control</td>\n",
       "      <td>old_page</td>\n",
       "      <td>1</td>\n",
       "    </tr>\n",
       "  </tbody>\n",
       "</table>\n",
       "</div>"
      ],
      "text/plain": [
       "   user_id                   timestamp      group landing_page  converted\n",
       "0   851104  2017-01-21 22:11:48.556739    control     old_page          0\n",
       "1   804228  2017-01-12 08:01:45.159739    control     old_page          0\n",
       "2   661590  2017-01-11 16:55:06.154213  treatment     new_page          0\n",
       "3   853541  2017-01-08 18:28:03.143765  treatment     new_page          0\n",
       "4   864975  2017-01-21 01:52:26.210827    control     old_page          1"
      ]
     },
     "execution_count": 5,
     "metadata": {},
     "output_type": "execute_result"
    }
   ],
   "source": [
    "df = pd.read_csv('../data/raw/ab_data.csv').copy()\n",
    "df.head()"
   ]
  },
  {
   "cell_type": "markdown",
   "id": "85e37a01",
   "metadata": {},
   "source": [
    "# 1.0 - Escolha do Método"
   ]
  },
  {
   "cell_type": "code",
   "execution_count": 6,
   "id": "ec7e1e23",
   "metadata": {
    "ExecuteTime": {
     "end_time": "2022-12-28T15:54:59.117648Z",
     "start_time": "2022-12-28T15:54:59.088497Z"
    }
   },
   "outputs": [],
   "source": [
    "df1 = df.copy()"
   ]
  },
  {
   "cell_type": "markdown",
   "id": "f27f88f1",
   "metadata": {},
   "source": [
    "- Para solucionar esse problema, vamos utilizar o teste A/B + o Teste de Hipótese"
   ]
  },
  {
   "cell_type": "markdown",
   "id": "03552962",
   "metadata": {},
   "source": [
    "# 2.0 - Design do Experimento"
   ]
  },
  {
   "cell_type": "code",
   "execution_count": 9,
   "id": "11ed953b",
   "metadata": {
    "ExecuteTime": {
     "end_time": "2022-12-28T15:55:06.253315Z",
     "start_time": "2022-12-28T15:55:06.230376Z"
    }
   },
   "outputs": [],
   "source": [
    "df2 = df1.copy()"
   ]
  },
  {
   "cell_type": "code",
   "execution_count": 10,
   "id": "57506f7c",
   "metadata": {
    "ExecuteTime": {
     "end_time": "2022-12-28T15:55:06.520600Z",
     "start_time": "2022-12-28T15:55:06.495666Z"
    }
   },
   "outputs": [
    {
     "data": {
      "text/html": [
       "<div>\n",
       "<style scoped>\n",
       "    .dataframe tbody tr th:only-of-type {\n",
       "        vertical-align: middle;\n",
       "    }\n",
       "\n",
       "    .dataframe tbody tr th {\n",
       "        vertical-align: top;\n",
       "    }\n",
       "\n",
       "    .dataframe thead th {\n",
       "        text-align: right;\n",
       "    }\n",
       "</style>\n",
       "<table border=\"1\" class=\"dataframe\">\n",
       "  <thead>\n",
       "    <tr style=\"text-align: right;\">\n",
       "      <th></th>\n",
       "      <th>user_id</th>\n",
       "      <th>timestamp</th>\n",
       "      <th>group</th>\n",
       "      <th>landing_page</th>\n",
       "      <th>converted</th>\n",
       "    </tr>\n",
       "  </thead>\n",
       "  <tbody>\n",
       "    <tr>\n",
       "      <th>0</th>\n",
       "      <td>851104</td>\n",
       "      <td>2017-01-21 22:11:48.556739</td>\n",
       "      <td>control</td>\n",
       "      <td>old_page</td>\n",
       "      <td>0</td>\n",
       "    </tr>\n",
       "    <tr>\n",
       "      <th>1</th>\n",
       "      <td>804228</td>\n",
       "      <td>2017-01-12 08:01:45.159739</td>\n",
       "      <td>control</td>\n",
       "      <td>old_page</td>\n",
       "      <td>0</td>\n",
       "    </tr>\n",
       "    <tr>\n",
       "      <th>2</th>\n",
       "      <td>661590</td>\n",
       "      <td>2017-01-11 16:55:06.154213</td>\n",
       "      <td>treatment</td>\n",
       "      <td>new_page</td>\n",
       "      <td>0</td>\n",
       "    </tr>\n",
       "    <tr>\n",
       "      <th>3</th>\n",
       "      <td>853541</td>\n",
       "      <td>2017-01-08 18:28:03.143765</td>\n",
       "      <td>treatment</td>\n",
       "      <td>new_page</td>\n",
       "      <td>0</td>\n",
       "    </tr>\n",
       "    <tr>\n",
       "      <th>4</th>\n",
       "      <td>864975</td>\n",
       "      <td>2017-01-21 01:52:26.210827</td>\n",
       "      <td>control</td>\n",
       "      <td>old_page</td>\n",
       "      <td>1</td>\n",
       "    </tr>\n",
       "  </tbody>\n",
       "</table>\n",
       "</div>"
      ],
      "text/plain": [
       "   user_id                   timestamp      group landing_page  converted\n",
       "0   851104  2017-01-21 22:11:48.556739    control     old_page          0\n",
       "1   804228  2017-01-12 08:01:45.159739    control     old_page          0\n",
       "2   661590  2017-01-11 16:55:06.154213  treatment     new_page          0\n",
       "3   853541  2017-01-08 18:28:03.143765  treatment     new_page          0\n",
       "4   864975  2017-01-21 01:52:26.210827    control     old_page          1"
      ]
     },
     "execution_count": 10,
     "metadata": {},
     "output_type": "execute_result"
    }
   ],
   "source": [
    "df2.head()"
   ]
  },
  {
   "cell_type": "markdown",
   "id": "6a813feb",
   "metadata": {},
   "source": [
    "## 2.1 - Formulação das Hipóteses"
   ]
  },
  {
   "cell_type": "markdown",
   "id": "76090856",
   "metadata": {},
   "source": [
    "**Hipótese Nula:** A página antiga e a página nova têm a mesma taxa de conversão.\n",
    "\n",
    "**Hipótese Alternativa:** A página com o design novo tem uma taxa de conversão diferente da página atual.(Teste Bicaudal)\n",
    "\n",
    "**Métrica:** A proporção da quantidade de conversões"
   ]
  },
  {
   "cell_type": "markdown",
   "id": "ba1c054b",
   "metadata": {},
   "source": [
    "**Qual o tipo dos dados?** numéricos.\n",
    "\n",
    "**Qual o objetivo do teste?** Verificar diferença.\n",
    "\n",
    "**Que tipo de diferença?** Diferença de proporção.\n",
    "\n",
    "**Quantos grupos?** São 2 grupos.\n",
    "\n",
    "Utilizar o Two Proportion Z-Test.\n",
    "- Verificar as premissas básicas para aplicar o teste (Shapiro, Bartlett's e Independência)"
   ]
  },
  {
   "cell_type": "markdown",
   "id": "79b46dba",
   "metadata": {
    "heading_collapsed": true
   },
   "source": [
    "## 2.2 - Parâmetros da Amostra"
   ]
  },
  {
   "cell_type": "code",
   "execution_count": 13,
   "id": "818494bc",
   "metadata": {
    "ExecuteTime": {
     "end_time": "2022-12-28T16:07:42.300452Z",
     "start_time": "2022-12-28T16:07:42.286490Z"
    },
    "hidden": true
   },
   "outputs": [],
   "source": [
    "# ---------------------- Determinação dos Parâmetros Para Dimensionar o Tamanho das Amostras -----------------------\n",
    "\n",
    "# Nível de Confiança\n",
    "nivel_confianca = 0.95\n",
    "\n",
    "# Nivel de Significância\n",
    "nivel_significancia = 1 - nivel_confianca\n",
    "\n",
    "# Effect Size\n",
    "# Conversões das páginas atual e nova.\n",
    "conversao_pagina_atual = 0.13\n",
    "conversao_pagina_nova  = 0.15\n",
    "\n",
    "# Cálculo do effect_size\n",
    "effect_size = proportion.proportion_effectsize(conversao_pagina_atual, conversao_pagina_nova)\n",
    "\n",
    "# Poder Estatístico\n",
    "power_stats = 0.8"
   ]
  },
  {
   "cell_type": "markdown",
   "id": "0d3e3a69",
   "metadata": {
    "heading_collapsed": true
   },
   "source": [
    "## 2.3 - Tamanho da Amostra"
   ]
  },
  {
   "cell_type": "code",
   "execution_count": 14,
   "id": "a31b6e32",
   "metadata": {
    "ExecuteTime": {
     "end_time": "2022-12-28T16:07:43.825406Z",
     "start_time": "2022-12-28T16:07:43.795452Z"
    },
    "hidden": true
   },
   "outputs": [
    {
     "name": "stdout",
     "output_type": "stream",
     "text": [
      "O tamanho da amostra para o grupo de controle é 4720.\n",
      "O tamanho da amostra para o grupo de tratamento é 4720.\n",
      "O tamanho total da amostra é 9440.\n"
     ]
    }
   ],
   "source": [
    "# ------------------------------- Cálculo do Tamanho da Amostra -----------------------------------------------\n",
    "\n",
    "# Tamanho da Amostra\n",
    "tamanho_amostra = power.zt_ind_solve_power(effect_size=effect_size , \n",
    "                                           power=power_stats, \n",
    "                                           alpha=nivel_significancia,\n",
    "                                           alternative='two-sided')\n",
    "\n",
    "# Reajustes\n",
    "tamanho_amostra = math.ceil(tamanho_amostra)\n",
    "\n",
    "print('O tamanho da amostra para o grupo de controle é {}.'.format(tamanho_amostra))\n",
    "print('O tamanho da amostra para o grupo de tratamento é {}.'.format(tamanho_amostra))\n",
    "print('O tamanho total da amostra é {}.'.format(tamanho_amostra*2))"
   ]
  },
  {
   "cell_type": "markdown",
   "id": "55d52e82",
   "metadata": {},
   "source": [
    "# 3.0 - Coleta e Prepação dos Dados da Amostra"
   ]
  },
  {
   "cell_type": "code",
   "execution_count": 15,
   "id": "ad7e11f8",
   "metadata": {
    "ExecuteTime": {
     "end_time": "2022-12-28T16:07:58.868259Z",
     "start_time": "2022-12-28T16:07:58.843120Z"
    }
   },
   "outputs": [],
   "source": [
    "df3 = df2.copy()"
   ]
  },
  {
   "cell_type": "markdown",
   "id": "4ae85989",
   "metadata": {},
   "source": [
    "## 3.1 - Preparação dos Dados"
   ]
  },
  {
   "cell_type": "markdown",
   "id": "9d34dada",
   "metadata": {},
   "source": [
    "### 3.1.1 - Dimensão dos Dados"
   ]
  },
  {
   "cell_type": "code",
   "execution_count": 16,
   "id": "275c1389",
   "metadata": {
    "ExecuteTime": {
     "end_time": "2022-12-28T16:08:02.007091Z",
     "start_time": "2022-12-28T16:08:01.989141Z"
    }
   },
   "outputs": [
    {
     "name": "stdout",
     "output_type": "stream",
     "text": [
      "Número de Linhas: 294478.\n",
      "Número de Colunas: 5.\n"
     ]
    }
   ],
   "source": [
    "# ------ Verificação da Dimensão dos Dados --------------\n",
    "\n",
    "print('Número de Linhas: {}.'.format(df3.shape[0]))\n",
    "print('Número de Colunas: {}.'.format(df3.shape[1]))"
   ]
  },
  {
   "cell_type": "markdown",
   "id": "2ee39127",
   "metadata": {
    "ExecuteTime": {
     "end_time": "2022-11-29T19:14:20.688159Z",
     "start_time": "2022-11-29T19:14:20.500626Z"
    }
   },
   "source": [
    "### 3.1.2 - Check NA"
   ]
  },
  {
   "cell_type": "code",
   "execution_count": 17,
   "id": "7f0bdc4b",
   "metadata": {
    "ExecuteTime": {
     "end_time": "2022-12-28T16:08:03.692553Z",
     "start_time": "2022-12-28T16:08:03.580851Z"
    }
   },
   "outputs": [
    {
     "data": {
      "text/plain": [
       "user_id         0\n",
       "timestamp       0\n",
       "group           0\n",
       "landing_page    0\n",
       "converted       0\n",
       "dtype: int64"
      ]
     },
     "execution_count": 17,
     "metadata": {},
     "output_type": "execute_result"
    }
   ],
   "source": [
    "# -------------- Verificação de Dados Nulos -------------------\n",
    "df3.isna().sum()"
   ]
  },
  {
   "cell_type": "markdown",
   "id": "e9bd0772",
   "metadata": {},
   "source": [
    "### 3.1.3 - Tipagem dos Dados "
   ]
  },
  {
   "cell_type": "code",
   "execution_count": 18,
   "id": "09f8998d",
   "metadata": {
    "ExecuteTime": {
     "end_time": "2022-12-28T16:08:04.819538Z",
     "start_time": "2022-12-28T16:08:04.807571Z"
    }
   },
   "outputs": [
    {
     "data": {
      "text/plain": [
       "user_id          int64\n",
       "timestamp       object\n",
       "group           object\n",
       "landing_page    object\n",
       "converted        int64\n",
       "dtype: object"
      ]
     },
     "execution_count": 18,
     "metadata": {},
     "output_type": "execute_result"
    }
   ],
   "source": [
    "# ---------------- Verificação da Natureza dos Dados -------------------\n",
    "df3.dtypes"
   ]
  },
  {
   "cell_type": "markdown",
   "id": "4325e1ad",
   "metadata": {},
   "source": [
    "## 3.2 - Coleta dos Dados de Amostra"
   ]
  },
  {
   "cell_type": "markdown",
   "id": "683a122d",
   "metadata": {
    "ExecuteTime": {
     "end_time": "2022-11-29T19:17:11.242695Z",
     "start_time": "2022-11-29T19:17:11.228733Z"
    }
   },
   "source": [
    "### 3.2.1 - Duplicidade das Flags"
   ]
  },
  {
   "cell_type": "code",
   "execution_count": 19,
   "id": "b95123ff",
   "metadata": {
    "ExecuteTime": {
     "end_time": "2022-12-28T16:08:07.196588Z",
     "start_time": "2022-12-28T16:08:07.027995Z"
    }
   },
   "outputs": [
    {
     "data": {
      "text/html": [
       "<div>\n",
       "<style scoped>\n",
       "    .dataframe tbody tr th:only-of-type {\n",
       "        vertical-align: middle;\n",
       "    }\n",
       "\n",
       "    .dataframe tbody tr th {\n",
       "        vertical-align: top;\n",
       "    }\n",
       "\n",
       "    .dataframe thead th {\n",
       "        text-align: right;\n",
       "    }\n",
       "</style>\n",
       "<table border=\"1\" class=\"dataframe\">\n",
       "  <thead>\n",
       "    <tr style=\"text-align: right;\">\n",
       "      <th></th>\n",
       "      <th>group</th>\n",
       "      <th>landing_page</th>\n",
       "      <th>number_users</th>\n",
       "    </tr>\n",
       "  </thead>\n",
       "  <tbody>\n",
       "    <tr>\n",
       "      <th>0</th>\n",
       "      <td>control</td>\n",
       "      <td>new_page</td>\n",
       "      <td>1928</td>\n",
       "    </tr>\n",
       "    <tr>\n",
       "      <th>1</th>\n",
       "      <td>control</td>\n",
       "      <td>old_page</td>\n",
       "      <td>145274</td>\n",
       "    </tr>\n",
       "    <tr>\n",
       "      <th>2</th>\n",
       "      <td>treatment</td>\n",
       "      <td>new_page</td>\n",
       "      <td>145311</td>\n",
       "    </tr>\n",
       "    <tr>\n",
       "      <th>3</th>\n",
       "      <td>treatment</td>\n",
       "      <td>old_page</td>\n",
       "      <td>1965</td>\n",
       "    </tr>\n",
       "  </tbody>\n",
       "</table>\n",
       "</div>"
      ],
      "text/plain": [
       "       group landing_page  number_users\n",
       "0    control     new_page          1928\n",
       "1    control     old_page        145274\n",
       "2  treatment     new_page        145311\n",
       "3  treatment     old_page          1965"
      ]
     },
     "execution_count": 19,
     "metadata": {},
     "output_type": "execute_result"
    }
   ],
   "source": [
    "# Verificação para saber se existe usuários com duas flags diferentes.\n",
    "df_flags = df3[['user_id', 'group', 'landing_page']].groupby(['group', 'landing_page']).count().reset_index()\n",
    "\n",
    "# renomeando a coluna user_id\n",
    "df_flags = df_flags.rename(columns={'user_id':'number_users'})\n",
    "\n",
    "# exibindo o dataframe\n",
    "df_flags"
   ]
  },
  {
   "cell_type": "code",
   "execution_count": 20,
   "id": "c210164e",
   "metadata": {
    "ExecuteTime": {
     "end_time": "2022-12-28T16:08:09.197510Z",
     "start_time": "2022-12-28T16:08:08.914267Z"
    }
   },
   "outputs": [
    {
     "name": "stdout",
     "output_type": "stream",
     "text": [
      "Porcentagem removida: 2.64%.\n"
     ]
    },
    {
     "data": {
      "text/html": [
       "<div>\n",
       "<style scoped>\n",
       "    .dataframe tbody tr th:only-of-type {\n",
       "        vertical-align: middle;\n",
       "    }\n",
       "\n",
       "    .dataframe tbody tr th {\n",
       "        vertical-align: top;\n",
       "    }\n",
       "\n",
       "    .dataframe thead th {\n",
       "        text-align: right;\n",
       "    }\n",
       "</style>\n",
       "<table border=\"1\" class=\"dataframe\">\n",
       "  <thead>\n",
       "    <tr style=\"text-align: right;\">\n",
       "      <th></th>\n",
       "      <th>group</th>\n",
       "      <th>landing_page</th>\n",
       "      <th>number_users</th>\n",
       "    </tr>\n",
       "  </thead>\n",
       "  <tbody>\n",
       "    <tr>\n",
       "      <th>0</th>\n",
       "      <td>control</td>\n",
       "      <td>old_page</td>\n",
       "      <td>143293</td>\n",
       "    </tr>\n",
       "    <tr>\n",
       "      <th>1</th>\n",
       "      <td>treatment</td>\n",
       "      <td>new_page</td>\n",
       "      <td>143397</td>\n",
       "    </tr>\n",
       "  </tbody>\n",
       "</table>\n",
       "</div>"
      ],
      "text/plain": [
       "       group landing_page  number_users\n",
       "0    control     old_page        143293\n",
       "1  treatment     new_page        143397"
      ]
     },
     "execution_count": 20,
     "metadata": {},
     "output_type": "execute_result"
    }
   ],
   "source": [
    "# ----------- Remoção das Duplicidades ------------------------\n",
    "\n",
    "# dataframe com os usuários duplicados\n",
    "df_users_duplicates = df3[['user_id', 'group']].groupby('user_id').count().reset_index().query('group > 1')\n",
    "\n",
    "# colocar os user_id em uma lista.\n",
    "list_users_duplicates = df_users_duplicates['user_id'].values.tolist()\n",
    "\n",
    "# Removendo as duplicidades do dataframe principal\n",
    "df3 = df3[~df3['user_id'].isin(list_users_duplicates)].copy()\n",
    "\n",
    "# Porcentagem removida\n",
    "percent = round(len(list_users_duplicates)*2/df2.shape[0]*100, 2)\n",
    "print('Porcentagem removida: {}%.'.format(percent))\n",
    "\n",
    "# -------------------- Verificação da remoção das duplicidades --------------------\n",
    "\n",
    "# Verificação para saber se existe usuários com duas flags diferentes.\n",
    "df_flags = df3[['user_id', 'group', 'landing_page']].groupby(['group', 'landing_page']).count().reset_index()\n",
    "\n",
    "# renomeando a coluna user_id\n",
    "df_flags = df_flags.rename(columns={'user_id':'number_users'})\n",
    "\n",
    "# exibindo o dataframe\n",
    "df_flags"
   ]
  },
  {
   "cell_type": "markdown",
   "id": "2b6c61e9",
   "metadata": {},
   "source": [
    "### 3.2.2 - Amostragem Aleatória dos Grupos de Controle e Tratamento"
   ]
  },
  {
   "cell_type": "code",
   "execution_count": 21,
   "id": "d812b866",
   "metadata": {
    "ExecuteTime": {
     "end_time": "2022-12-28T16:09:19.711633Z",
     "start_time": "2022-12-28T16:09:19.560038Z"
    }
   },
   "outputs": [
    {
     "name": "stdout",
     "output_type": "stream",
     "text": [
      "Tamando da amostra do grupo de controle: 4720.\n",
      "Tamando da amostra do grupo de tratamento: 4720.\n"
     ]
    }
   ],
   "source": [
    "# Amostragem do Grupo de Controle\n",
    "df_control_sample = df3[df3['group'] == 'control'].sample(n=tamanho_amostra, random_state=42)\n",
    "\n",
    "# Amostragem do Grupo de Tratamento\n",
    "df_treatment_sample = df3[df3['group'] == 'treatment'].sample(n=tamanho_amostra, random_state=42)\n",
    "\n",
    "# Exibição\n",
    "print('Tamando da amostra do grupo de controle: {}.'.format(df_control_sample.shape[0]))\n",
    "print('Tamando da amostra do grupo de tratamento: {}.'.format(df_treatment_sample.shape[0]))"
   ]
  },
  {
   "cell_type": "markdown",
   "id": "025428ac",
   "metadata": {},
   "source": [
    "## 3.3 -  Cálculo da Conversão dos Grupos(Taxa de Conversão)"
   ]
  },
  {
   "cell_type": "code",
   "execution_count": 36,
   "id": "b294d9b8",
   "metadata": {
    "ExecuteTime": {
     "end_time": "2022-12-28T16:21:55.647090Z",
     "start_time": "2022-12-28T16:21:55.618128Z"
    }
   },
   "outputs": [
    {
     "name": "stdout",
     "output_type": "stream",
     "text": [
      "Taxa de conversão no grupo de controle: 11.55%.\n",
      "Taxa de conversão no grupo de tratamento: 12.9%.\n"
     ]
    },
    {
     "data": {
      "text/html": [
       "<div>\n",
       "<style scoped>\n",
       "    .dataframe tbody tr th:only-of-type {\n",
       "        vertical-align: middle;\n",
       "    }\n",
       "\n",
       "    .dataframe tbody tr th {\n",
       "        vertical-align: top;\n",
       "    }\n",
       "\n",
       "    .dataframe thead th {\n",
       "        text-align: right;\n",
       "    }\n",
       "</style>\n",
       "<table border=\"1\" class=\"dataframe\">\n",
       "  <thead>\n",
       "    <tr style=\"text-align: right;\">\n",
       "      <th></th>\n",
       "      <th>vendas</th>\n",
       "      <th>não-vendas</th>\n",
       "      <th>visitas</th>\n",
       "    </tr>\n",
       "  </thead>\n",
       "  <tbody>\n",
       "    <tr>\n",
       "      <th>Grupo Controle</th>\n",
       "      <td>545</td>\n",
       "      <td>4175</td>\n",
       "      <td>4720</td>\n",
       "    </tr>\n",
       "    <tr>\n",
       "      <th>Grupo Tratamento</th>\n",
       "      <td>609</td>\n",
       "      <td>4111</td>\n",
       "      <td>4720</td>\n",
       "    </tr>\n",
       "  </tbody>\n",
       "</table>\n",
       "</div>"
      ],
      "text/plain": [
       "                  vendas  não-vendas  visitas\n",
       "Grupo Controle       545        4175     4720\n",
       "Grupo Tratamento     609        4111     4720"
      ]
     },
     "execution_count": 36,
     "metadata": {},
     "output_type": "execute_result"
    }
   ],
   "source": [
    "# ------------------------ Métrica Grupo de Controle --------------------\n",
    "\n",
    "# Quantidade de Conversões\n",
    "sales_control = df_control_sample[df_control_sample['converted'] == 1]['converted'].sum()\n",
    "\n",
    "# Quantidade de Visitas\n",
    "visit_control = len(df_control_sample)\n",
    "\n",
    "# Taxa de Conversão do Grupo de Controle\n",
    "taxa_conversao_controle = round(sales_control/visit_control, 4)\n",
    "\n",
    "# ------------------------ Métrica Grupo de Tratamento --------------------\n",
    "\n",
    "# Quantidade de Conversões\n",
    "sales_treatment = df_treatment_sample[df_treatment_sample['converted'] == 1]['converted'].sum()\n",
    "\n",
    "# Quantidade de Visitas\n",
    "visit_treatment = len(df_treatment_sample)\n",
    "\n",
    "# Taxa de Conversão do Grupo de Controle\n",
    "taxa_conversao_tratamento = round(sales_treatment/visit_treatment, 4)\n",
    "\n",
    "# ----------------- Organização dos Dados -------------------------------\n",
    "\n",
    "# Armazenando os dados na tabela\n",
    "df_sample = pd.DataFrame({'vendas' : [sales_control, sales_treatment], \n",
    "                          'não-vendas': [visit_control - sales_control, visit_treatment-sales_treatment], \n",
    "                          'visitas' : [visit_control, visit_treatment]})\n",
    "# Reajustando os nomes\n",
    "df_sample.index = ['Grupo Controle', 'Grupo Tratamento']\n",
    "\n",
    "\n",
    "# ------------ Exibição das Métricas ----------------------\n",
    "\n",
    "print('Taxa de conversão no grupo de controle: {}%.'.format(taxa_conversao_controle*100))\n",
    "print('Taxa de conversão no grupo de tratamento: {}%.'.format(taxa_conversao_tratamento*100))\n",
    "\n",
    "df_sample"
   ]
  },
  {
   "cell_type": "markdown",
   "id": "9090741f",
   "metadata": {},
   "source": [
    "# 4.0 - Teste de Hipóteses"
   ]
  },
  {
   "cell_type": "markdown",
   "id": "8fbd1f8d",
   "metadata": {},
   "source": [
    "## 4.1 - Determinação do Teste"
   ]
  },
  {
   "cell_type": "markdown",
   "id": "b03bbd7a",
   "metadata": {
    "ExecuteTime": {
     "end_time": "2022-12-03T14:50:07.215884Z",
     "start_time": "2022-12-03T14:50:07.186960Z"
    }
   },
   "source": [
    "**1.** Qual o tipo dos dados?\n",
    "    - Numéricos. Estamos interassados na proporção de conversão.\n",
    "    \n",
    "**2.** Qual o tamanho da amostra?\n",
    "    - 4720\n",
    "    \n",
    "**3.** Quantos grupos?\n",
    "    - 2 Grupos\n",
    "    \n",
    "**Teste Escolhido:** Two Proportion Ztest"
   ]
  },
  {
   "cell_type": "markdown",
   "id": "a62c7895",
   "metadata": {},
   "source": [
    "## 4.2 - Two Proportion Z-Test"
   ]
  },
  {
   "cell_type": "code",
   "execution_count": 43,
   "id": "c45b5696",
   "metadata": {
    "ExecuteTime": {
     "end_time": "2022-12-28T16:31:01.422868Z",
     "start_time": "2022-12-28T16:31:01.400929Z"
    }
   },
   "outputs": [
    {
     "name": "stdout",
     "output_type": "stream",
     "text": [
      "P-Valor: 0.044335957690484505.\n",
      "Rejeitamos a hipótese nula. Logo, concluímos que há uma diferença entre as taxas de conversões da página.\n"
     ]
    }
   ],
   "source": [
    "# -------- Ajuste dos dados para o teste -----------------------\n",
    "\n",
    "# Junção das amostras de controle e tratamento.\n",
    "sales = np.array(df_sample['vendas'])\n",
    "\n",
    "visit = np.array(df_sample['visitas'])\n",
    "\n",
    "# realização do teste\n",
    "zscore, p_valor = proportion.proportions_ztest(sales, visit, alternative='two-sided')\n",
    "\n",
    "print(f'P-Valor: {p_valor}.')\n",
    "if p_valor < (nivel_significancia):\n",
    "    print('Rejeitamos a hipótese nula. Logo, concluímos que há uma diferença entre as taxas de conversões da página.')\n",
    "else:\n",
    "    print('Falhamos em rejeitar a hipótese nula. Portanto, concluímos que não há uma diferença entre as taxas de conversões.')"
   ]
  },
  {
   "cell_type": "markdown",
   "id": "af9c8b2d",
   "metadata": {},
   "source": [
    "Em nosso teste, nós encontramos que existe um diferença entre as conversões das páginas. Primeiramente, vamos verificar se a conversão da página nova é maior que a atual. Aqui reformulamos a nossas hipóteses da seguinte forma:\n",
    "\n",
    "**Hipótese Nula:** A página antiga e a página nova têm a mesma taxa de conversão.\n",
    "\n",
    "**Hipótese Alternativa:** A página com o design novo tem uma taxa de conversão maior que a página atual.(Teste Unicaudal)\n",
    "\n",
    "\n",
    "Segue o teste abaixo com as mesmas amostras."
   ]
  },
  {
   "cell_type": "code",
   "execution_count": 44,
   "id": "b9564d71",
   "metadata": {
    "ExecuteTime": {
     "end_time": "2022-12-28T16:44:46.026699Z",
     "start_time": "2022-12-28T16:44:46.010745Z"
    }
   },
   "outputs": [
    {
     "name": "stdout",
     "output_type": "stream",
     "text": [
      "P-Valor: 0.022167978845242253.\n",
      "Rejeitamos a hipótese nula. Logo, concluímos que a página nova possui uma taxa de conversão maior que a antiga.\n"
     ]
    }
   ],
   "source": [
    "# realização do teste\n",
    "zscore, p_valor = proportion.proportions_ztest(sales, visit, alternative='smaller')\n",
    "\n",
    "print(f'P-Valor: {p_valor}.')\n",
    "if p_valor < (nivel_significancia):\n",
    "    print('Rejeitamos a hipótese nula. Logo, concluímos que a página nova possui uma taxa de conversão maior que a antiga.')\n",
    "else:\n",
    "    print('Falhamos em rejeitar a hipótese nula. Portanto, concluímos que não há uma diferença entre as taxas de conversões.')"
   ]
  },
  {
   "cell_type": "markdown",
   "id": "9087cff9",
   "metadata": {},
   "source": [
    "Sabendo que a página com o design novo possui uma taxa de conversão maior que a página atual, vamos realizar o teste estatistico para determinar o quão melhor é a página com o novo design. Para isso, vamos realizar o One Proportion Z_test sobre os dados da amostra de tratamento. Segue a formulação das hipóteses:\n",
    "\n",
    "**Hipótese Nula:** A página nova possui uma taxa de conversão de 13.9%.\n",
    "\n",
    "**Hipótese Alternativa:** A página nova possui uma taxa de conversão menor que 13.9%"
   ]
  },
  {
   "cell_type": "code",
   "execution_count": 158,
   "id": "a6f6d8dc",
   "metadata": {
    "ExecuteTime": {
     "end_time": "2022-12-28T18:48:31.066798Z",
     "start_time": "2022-12-28T18:48:31.044857Z"
    }
   },
   "outputs": [
    {
     "name": "stdout",
     "output_type": "stream",
     "text": [
      "P-valor: 0.020466505038432205\n",
      "Rejeitamos a hipótese nula. Logo, a taxa de conversão é menor que a 13.9%.\n"
     ]
    }
   ],
   "source": [
    "zscore, pvalor = proportion.proportions_ztest(sales_treatment, visit_treatment, value=0.139, alternative='smaller')\n",
    "\n",
    "print('P-valor: {}'.format(pvalor))\n",
    "if p_valor < 0.05:\n",
    "    print('Rejeitamos a hipótese nula. Logo, a taxa de conversão é menor que a 13.9%.')\n",
    "else: \n",
    "    print('Falhamos em rejeitar a hipótese nula. Logo, a taxa de conversão é de 13.9%.')"
   ]
  },
  {
   "cell_type": "markdown",
   "id": "150776d6",
   "metadata": {},
   "source": [
    "# 5.0 - Respondendo as perguntas do CEO."
   ]
  },
  {
   "cell_type": "markdown",
   "id": "78d3ef32",
   "metadata": {},
   "source": [
    "**1.** A conversão da nova página é realmente melhor do a conversão da página atual?\n",
    "    \n",
    "- Após realizado os testes, concluímos que a página com o novo design é realmente melhor que a página atual. De forma mais detalhada de acordo com os teste, é esperado uma melhora de 0.8% na taxa de conversão da página nova em relação a página antiga, pois a página nova possui uma taxa de conversão maior que atual que é 13% e a taxa de conversão da nova página é menor que 13,9%, segundo os testes estatísticos realizados."
   ]
  },
  {
   "cell_type": "markdown",
   "id": "591033ca",
   "metadata": {
    "ExecuteTime": {
     "end_time": "2022-12-03T18:58:28.783066Z",
     "start_time": "2022-12-03T18:58:28.773076Z"
    }
   },
   "source": [
    "**2.** Qual o potencial de número de vendas que a nova página pode trazer?\n",
    "\n",
    "- Segundo os dados da empresa, com a página antiga, nós tivemos uma taxa de conversão de 13%, na média, no último ano com a venda de teclado bluetooth, isto é, a cada 100.000 acessos, podemos dizer que foram vendido 13.000 teclados bluetooth, ou seja, temos um faturamento de R$ 58.800.00\n",
    "\n",
    " \n",
    "- Com a nova página atuando, é esperado um lift de 0.8% na taxa de conversão. Logo, para cada 100.000 acessos, podemos dizer que se espera uma venda de 800 teclados bluetooth a mais, ou seja, temos uma estimativa de aumento no faturamento de R$ 3.600.000.\n"
   ]
  },
  {
   "cell_type": "markdown",
   "id": "7061b977",
   "metadata": {},
   "source": [
    "**3.** Qual o faturamento total na venda do teclado bluetooth através da nova página?\n",
    "    \n",
    "- Como não temos informações sobre a quantidade média de acessos anualmente, esperasse que a cada 100.000 acessos tenhamos um faturamento total de R$ 62.100.00 com a nova página.\n",
    "    "
   ]
  }
 ],
 "metadata": {
  "kernelspec": {
   "display_name": "Python 3 (ipykernel)",
   "language": "python",
   "name": "python3"
  },
  "language_info": {
   "codemirror_mode": {
    "name": "ipython",
    "version": 3
   },
   "file_extension": ".py",
   "mimetype": "text/x-python",
   "name": "python",
   "nbconvert_exporter": "python",
   "pygments_lexer": "ipython3",
   "version": "3.8.0"
  }
 },
 "nbformat": 4,
 "nbformat_minor": 5
}
