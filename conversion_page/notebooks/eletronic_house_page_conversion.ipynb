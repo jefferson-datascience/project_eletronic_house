{
 "cells": [
  {
   "cell_type": "markdown",
   "id": "1083d84d",
   "metadata": {
    "ExecuteTime": {
     "end_time": "2022-11-24T16:16:46.570709Z",
     "start_time": "2022-11-24T16:16:46.559738Z"
    }
   },
   "source": [
    "# 0.0 - Imports"
   ]
  },
  {
   "cell_type": "code",
   "execution_count": 13,
   "id": "23415276",
   "metadata": {
    "ExecuteTime": {
     "end_time": "2022-12-03T19:52:51.740502Z",
     "start_time": "2022-12-03T19:52:51.727537Z"
    }
   },
   "outputs": [],
   "source": [
    "import pandas  as pd\n",
    "import numpy   as np\n",
    "import seaborn as sns \n",
    "import math\n",
    "\n",
    "from scipy.stats import chi2_contingency\n",
    "from statsmodels.stats import power, proportion"
   ]
  },
  {
   "cell_type": "markdown",
   "id": "3f6a3a55",
   "metadata": {},
   "source": [
    "## 0.1 - Helper Functions"
   ]
  },
  {
   "cell_type": "markdown",
   "id": "df068083",
   "metadata": {},
   "source": [
    "##  0.2 - Carregamento dos Dados"
   ]
  },
  {
   "cell_type": "code",
   "execution_count": 14,
   "id": "0df50e45",
   "metadata": {
    "ExecuteTime": {
     "end_time": "2022-12-03T19:52:53.127636Z",
     "start_time": "2022-12-03T19:52:52.762568Z"
    }
   },
   "outputs": [
    {
     "data": {
      "text/html": [
       "<div>\n",
       "<style scoped>\n",
       "    .dataframe tbody tr th:only-of-type {\n",
       "        vertical-align: middle;\n",
       "    }\n",
       "\n",
       "    .dataframe tbody tr th {\n",
       "        vertical-align: top;\n",
       "    }\n",
       "\n",
       "    .dataframe thead th {\n",
       "        text-align: right;\n",
       "    }\n",
       "</style>\n",
       "<table border=\"1\" class=\"dataframe\">\n",
       "  <thead>\n",
       "    <tr style=\"text-align: right;\">\n",
       "      <th></th>\n",
       "      <th>user_id</th>\n",
       "      <th>timestamp</th>\n",
       "      <th>group</th>\n",
       "      <th>landing_page</th>\n",
       "      <th>converted</th>\n",
       "    </tr>\n",
       "  </thead>\n",
       "  <tbody>\n",
       "    <tr>\n",
       "      <th>0</th>\n",
       "      <td>851104</td>\n",
       "      <td>2017-01-21 22:11:48.556739</td>\n",
       "      <td>control</td>\n",
       "      <td>old_page</td>\n",
       "      <td>0</td>\n",
       "    </tr>\n",
       "    <tr>\n",
       "      <th>1</th>\n",
       "      <td>804228</td>\n",
       "      <td>2017-01-12 08:01:45.159739</td>\n",
       "      <td>control</td>\n",
       "      <td>old_page</td>\n",
       "      <td>0</td>\n",
       "    </tr>\n",
       "    <tr>\n",
       "      <th>2</th>\n",
       "      <td>661590</td>\n",
       "      <td>2017-01-11 16:55:06.154213</td>\n",
       "      <td>treatment</td>\n",
       "      <td>new_page</td>\n",
       "      <td>0</td>\n",
       "    </tr>\n",
       "    <tr>\n",
       "      <th>3</th>\n",
       "      <td>853541</td>\n",
       "      <td>2017-01-08 18:28:03.143765</td>\n",
       "      <td>treatment</td>\n",
       "      <td>new_page</td>\n",
       "      <td>0</td>\n",
       "    </tr>\n",
       "    <tr>\n",
       "      <th>4</th>\n",
       "      <td>864975</td>\n",
       "      <td>2017-01-21 01:52:26.210827</td>\n",
       "      <td>control</td>\n",
       "      <td>old_page</td>\n",
       "      <td>1</td>\n",
       "    </tr>\n",
       "  </tbody>\n",
       "</table>\n",
       "</div>"
      ],
      "text/plain": [
       "   user_id                   timestamp      group landing_page  converted\n",
       "0   851104  2017-01-21 22:11:48.556739    control     old_page          0\n",
       "1   804228  2017-01-12 08:01:45.159739    control     old_page          0\n",
       "2   661590  2017-01-11 16:55:06.154213  treatment     new_page          0\n",
       "3   853541  2017-01-08 18:28:03.143765  treatment     new_page          0\n",
       "4   864975  2017-01-21 01:52:26.210827    control     old_page          1"
      ]
     },
     "execution_count": 14,
     "metadata": {},
     "output_type": "execute_result"
    }
   ],
   "source": [
    "df = pd.read_csv('../data/raw/ab_data.csv').copy()\n",
    "df.head()"
   ]
  },
  {
   "cell_type": "markdown",
   "id": "85e37a01",
   "metadata": {},
   "source": [
    "# 1.0 - Escolha do Método"
   ]
  },
  {
   "cell_type": "code",
   "execution_count": 15,
   "id": "ec7e1e23",
   "metadata": {
    "ExecuteTime": {
     "end_time": "2022-12-03T19:52:55.454155Z",
     "start_time": "2022-12-03T19:52:55.430222Z"
    }
   },
   "outputs": [],
   "source": [
    "df1 = df.copy()"
   ]
  },
  {
   "cell_type": "markdown",
   "id": "f27f88f1",
   "metadata": {},
   "source": [
    "- Para solucionar esse problema, vamos utilizar o teste A/B + o Teste de Hipótese"
   ]
  },
  {
   "cell_type": "markdown",
   "id": "03552962",
   "metadata": {},
   "source": [
    "# 2.0 - Design do Experimento"
   ]
  },
  {
   "cell_type": "code",
   "execution_count": 16,
   "id": "11ed953b",
   "metadata": {
    "ExecuteTime": {
     "end_time": "2022-12-03T19:52:56.304814Z",
     "start_time": "2022-12-03T19:52:56.280844Z"
    }
   },
   "outputs": [],
   "source": [
    "df2 = df1.copy()"
   ]
  },
  {
   "cell_type": "markdown",
   "id": "6a813feb",
   "metadata": {},
   "source": [
    "## 2.1 - Formulação das Hipóteses"
   ]
  },
  {
   "cell_type": "markdown",
   "id": "76090856",
   "metadata": {},
   "source": [
    "**Hipótese Nula:** A página antiga e a página nova têm a mesma taxa de conversão, isto é, ambas possuem 13%.\n",
    "\n",
    "**Hipótese Alternativa:** A página com o design novo tem uma taxa de conversão diferente de 13%.(Teste Bicaudal.)\n",
    "\n",
    "**Métrica:** A conversão na compra do teclado."
   ]
  },
  {
   "cell_type": "markdown",
   "id": "79b46dba",
   "metadata": {},
   "source": [
    "## 2.2 - Parâmetros da Amostra"
   ]
  },
  {
   "cell_type": "code",
   "execution_count": 17,
   "id": "818494bc",
   "metadata": {
    "ExecuteTime": {
     "end_time": "2022-12-03T19:52:57.440323Z",
     "start_time": "2022-12-03T19:52:57.428355Z"
    }
   },
   "outputs": [],
   "source": [
    "# ---------------------- Determinação dos Parâmetros Para Dimensionar o Tamanho das Amostras -----------------------\n",
    "\n",
    "# Nível de Confiança\n",
    "nivel_confianca = 0.95\n",
    "\n",
    "# Nivel de Significância\n",
    "nivel_significancia = 1 - nivel_confianca\n",
    "\n",
    "# Effect Size\n",
    "# Conversões das páginas atual e nova.\n",
    "conversao_pagina_atual = 0.13\n",
    "conversao_pagina_nova  = 0.15\n",
    "\n",
    "# Cálculo do effect_size\n",
    "effect_size = proportion.proportion_effectsize(conversao_pagina_atual, conversao_pagina_nova)\n",
    "\n",
    "# Poder Estatístico\n",
    "power_stats = 0.8"
   ]
  },
  {
   "cell_type": "markdown",
   "id": "0d3e3a69",
   "metadata": {},
   "source": [
    "## 2.3 - Tamanho da Amostra"
   ]
  },
  {
   "cell_type": "code",
   "execution_count": 18,
   "id": "a31b6e32",
   "metadata": {
    "ExecuteTime": {
     "end_time": "2022-12-03T19:52:58.056678Z",
     "start_time": "2022-12-03T19:52:58.019778Z"
    }
   },
   "outputs": [
    {
     "name": "stdout",
     "output_type": "stream",
     "text": [
      "O tamanho da amostra para o grupo de controle é 4720.\n",
      "O tamanho da amostra para o grupo de tratamento é 4720.\n",
      "O tamanho total da amostra é 9440.\n"
     ]
    }
   ],
   "source": [
    "# ------------------------------- Cálculo do Tamanho da Amostra -----------------------------------------------\n",
    "\n",
    "# Tamanho da Amostra\n",
    "tamanho_amostra = power.NormalIndPower().solve_power(effect_size=effect_size , power=power_stats, alpha=nivel_significancia)\n",
    "\n",
    "# Reajustes\n",
    "tamanho_amostra = math.ceil(tamanho_amostra)\n",
    "\n",
    "print('O tamanho da amostra para o grupo de controle é {}.'.format(tamanho_amostra))\n",
    "print('O tamanho da amostra para o grupo de tratamento é {}.'.format(tamanho_amostra))\n",
    "print('O tamanho total da amostra é {}.'.format(tamanho_amostra*2))"
   ]
  },
  {
   "cell_type": "markdown",
   "id": "55d52e82",
   "metadata": {},
   "source": [
    "# 3.0 - Coleta e Prepação dos Dados da Amostra"
   ]
  },
  {
   "cell_type": "code",
   "execution_count": 19,
   "id": "ad7e11f8",
   "metadata": {
    "ExecuteTime": {
     "end_time": "2022-12-03T19:52:58.557104Z",
     "start_time": "2022-12-03T19:52:58.538157Z"
    }
   },
   "outputs": [],
   "source": [
    "df3 = df2.copy()"
   ]
  },
  {
   "cell_type": "markdown",
   "id": "4ae85989",
   "metadata": {},
   "source": [
    "## 3.1 - Preparação dos Dados"
   ]
  },
  {
   "cell_type": "markdown",
   "id": "9d34dada",
   "metadata": {},
   "source": [
    "### 3.1.1 - Dimensão dos Dados"
   ]
  },
  {
   "cell_type": "code",
   "execution_count": 20,
   "id": "275c1389",
   "metadata": {
    "ExecuteTime": {
     "end_time": "2022-12-03T19:52:59.378938Z",
     "start_time": "2022-12-03T19:52:59.357993Z"
    }
   },
   "outputs": [
    {
     "name": "stdout",
     "output_type": "stream",
     "text": [
      "Número de Linhas: 294478.\n",
      "Número de Colunas: 5.\n"
     ]
    }
   ],
   "source": [
    "# ------ Verificação da Dimensão dos Dados --------------\n",
    "\n",
    "print('Número de Linhas: {}.'.format(df3.shape[0]))\n",
    "print('Número de Colunas: {}.'.format(df3.shape[1]))"
   ]
  },
  {
   "cell_type": "markdown",
   "id": "2ee39127",
   "metadata": {
    "ExecuteTime": {
     "end_time": "2022-11-29T19:14:20.688159Z",
     "start_time": "2022-11-29T19:14:20.500626Z"
    }
   },
   "source": [
    "### 3.1.2 - Check NA"
   ]
  },
  {
   "cell_type": "code",
   "execution_count": 21,
   "id": "7f0bdc4b",
   "metadata": {
    "ExecuteTime": {
     "end_time": "2022-12-03T19:52:59.991597Z",
     "start_time": "2022-12-03T19:52:59.873690Z"
    }
   },
   "outputs": [
    {
     "data": {
      "text/plain": [
       "user_id         0\n",
       "timestamp       0\n",
       "group           0\n",
       "landing_page    0\n",
       "converted       0\n",
       "dtype: int64"
      ]
     },
     "execution_count": 21,
     "metadata": {},
     "output_type": "execute_result"
    }
   ],
   "source": [
    "# -------------- Verificação de Dados Nulos -------------------\n",
    "df3.isna().sum()"
   ]
  },
  {
   "cell_type": "markdown",
   "id": "e9bd0772",
   "metadata": {},
   "source": [
    "### 3.1.3 - Tipagem dos Dados "
   ]
  },
  {
   "cell_type": "code",
   "execution_count": 22,
   "id": "09f8998d",
   "metadata": {
    "ExecuteTime": {
     "end_time": "2022-12-03T19:53:00.419233Z",
     "start_time": "2022-12-03T19:53:00.397292Z"
    }
   },
   "outputs": [
    {
     "data": {
      "text/plain": [
       "user_id          int64\n",
       "timestamp       object\n",
       "group           object\n",
       "landing_page    object\n",
       "converted        int64\n",
       "dtype: object"
      ]
     },
     "execution_count": 22,
     "metadata": {},
     "output_type": "execute_result"
    }
   ],
   "source": [
    "# ---------------- Verificação da Natureza dos Dados -------------------\n",
    "df3.dtypes"
   ]
  },
  {
   "cell_type": "markdown",
   "id": "4325e1ad",
   "metadata": {},
   "source": [
    "## 3.2 - Coleta dos Dados de Amostra"
   ]
  },
  {
   "cell_type": "markdown",
   "id": "683a122d",
   "metadata": {
    "ExecuteTime": {
     "end_time": "2022-11-29T19:17:11.242695Z",
     "start_time": "2022-11-29T19:17:11.228733Z"
    }
   },
   "source": [
    "### 3.2.1 - Duplicidade das Flags"
   ]
  },
  {
   "cell_type": "code",
   "execution_count": 23,
   "id": "b95123ff",
   "metadata": {
    "ExecuteTime": {
     "end_time": "2022-12-03T19:53:01.289874Z",
     "start_time": "2022-12-03T19:53:01.210839Z"
    }
   },
   "outputs": [
    {
     "data": {
      "text/html": [
       "<div>\n",
       "<style scoped>\n",
       "    .dataframe tbody tr th:only-of-type {\n",
       "        vertical-align: middle;\n",
       "    }\n",
       "\n",
       "    .dataframe tbody tr th {\n",
       "        vertical-align: top;\n",
       "    }\n",
       "\n",
       "    .dataframe thead th {\n",
       "        text-align: right;\n",
       "    }\n",
       "</style>\n",
       "<table border=\"1\" class=\"dataframe\">\n",
       "  <thead>\n",
       "    <tr style=\"text-align: right;\">\n",
       "      <th></th>\n",
       "      <th>group</th>\n",
       "      <th>landing_page</th>\n",
       "      <th>number_users</th>\n",
       "    </tr>\n",
       "  </thead>\n",
       "  <tbody>\n",
       "    <tr>\n",
       "      <th>0</th>\n",
       "      <td>control</td>\n",
       "      <td>new_page</td>\n",
       "      <td>1928</td>\n",
       "    </tr>\n",
       "    <tr>\n",
       "      <th>1</th>\n",
       "      <td>control</td>\n",
       "      <td>old_page</td>\n",
       "      <td>145274</td>\n",
       "    </tr>\n",
       "    <tr>\n",
       "      <th>2</th>\n",
       "      <td>treatment</td>\n",
       "      <td>new_page</td>\n",
       "      <td>145311</td>\n",
       "    </tr>\n",
       "    <tr>\n",
       "      <th>3</th>\n",
       "      <td>treatment</td>\n",
       "      <td>old_page</td>\n",
       "      <td>1965</td>\n",
       "    </tr>\n",
       "  </tbody>\n",
       "</table>\n",
       "</div>"
      ],
      "text/plain": [
       "       group landing_page  number_users\n",
       "0    control     new_page          1928\n",
       "1    control     old_page        145274\n",
       "2  treatment     new_page        145311\n",
       "3  treatment     old_page          1965"
      ]
     },
     "execution_count": 23,
     "metadata": {},
     "output_type": "execute_result"
    }
   ],
   "source": [
    "# Verificação para saber se existe usuários com duas flags diferentes.\n",
    "df_flags = df3[['user_id', 'group', 'landing_page']].groupby(['group', 'landing_page']).count().reset_index()\n",
    "\n",
    "# renomeando a coluna user_id\n",
    "df_flags = df_flags.rename(columns={'user_id':'number_users'})\n",
    "\n",
    "# exibindo o dataframe\n",
    "df_flags"
   ]
  },
  {
   "cell_type": "code",
   "execution_count": 24,
   "id": "c210164e",
   "metadata": {
    "ExecuteTime": {
     "end_time": "2022-12-03T19:53:01.763406Z",
     "start_time": "2022-12-03T19:53:01.510040Z"
    }
   },
   "outputs": [
    {
     "name": "stdout",
     "output_type": "stream",
     "text": [
      "Porcentagem removida: 2.64%.\n"
     ]
    },
    {
     "data": {
      "text/html": [
       "<div>\n",
       "<style scoped>\n",
       "    .dataframe tbody tr th:only-of-type {\n",
       "        vertical-align: middle;\n",
       "    }\n",
       "\n",
       "    .dataframe tbody tr th {\n",
       "        vertical-align: top;\n",
       "    }\n",
       "\n",
       "    .dataframe thead th {\n",
       "        text-align: right;\n",
       "    }\n",
       "</style>\n",
       "<table border=\"1\" class=\"dataframe\">\n",
       "  <thead>\n",
       "    <tr style=\"text-align: right;\">\n",
       "      <th></th>\n",
       "      <th>group</th>\n",
       "      <th>landing_page</th>\n",
       "      <th>number_users</th>\n",
       "    </tr>\n",
       "  </thead>\n",
       "  <tbody>\n",
       "    <tr>\n",
       "      <th>0</th>\n",
       "      <td>control</td>\n",
       "      <td>old_page</td>\n",
       "      <td>143293</td>\n",
       "    </tr>\n",
       "    <tr>\n",
       "      <th>1</th>\n",
       "      <td>treatment</td>\n",
       "      <td>new_page</td>\n",
       "      <td>143397</td>\n",
       "    </tr>\n",
       "  </tbody>\n",
       "</table>\n",
       "</div>"
      ],
      "text/plain": [
       "       group landing_page  number_users\n",
       "0    control     old_page        143293\n",
       "1  treatment     new_page        143397"
      ]
     },
     "execution_count": 24,
     "metadata": {},
     "output_type": "execute_result"
    }
   ],
   "source": [
    "# ----------- Remoção das Duplicidades ------------------------\n",
    "\n",
    "# dataframe com os usuários duplicados\n",
    "df_users_duplicates = df3[['user_id', 'group']].groupby('user_id').count().reset_index().query('group > 1')\n",
    "\n",
    "# colocar os user_id em uma lista.\n",
    "list_users_duplicates = df_users_duplicates['user_id'].values.tolist()\n",
    "\n",
    "# Removendo as duplicidades do dataframe principal\n",
    "df3 = df3[~df3['user_id'].isin(list_users_duplicates)].copy()\n",
    "\n",
    "# Porcentagem removida\n",
    "percent = round(len(list_users_duplicates)*2/df2.shape[0]*100, 2)\n",
    "print('Porcentagem removida: {}%.'.format(percent))\n",
    "\n",
    "# -------------------- Verificação da remoção das duplicidades --------------------\n",
    "\n",
    "# Verificação para saber se existe usuários com duas flags diferentes.\n",
    "df_flags = df3[['user_id', 'group', 'landing_page']].groupby(['group', 'landing_page']).count().reset_index()\n",
    "\n",
    "# renomeando a coluna user_id\n",
    "df_flags = df_flags.rename(columns={'user_id':'number_users'})\n",
    "\n",
    "# exibindo o dataframe\n",
    "df_flags"
   ]
  },
  {
   "cell_type": "markdown",
   "id": "2b6c61e9",
   "metadata": {},
   "source": [
    "### 3.2.2 - Amostragem Aleatória dos Grupos de Controle e Tratamento"
   ]
  },
  {
   "cell_type": "code",
   "execution_count": 25,
   "id": "d812b866",
   "metadata": {
    "ExecuteTime": {
     "end_time": "2022-12-03T19:53:02.109103Z",
     "start_time": "2022-12-03T19:53:02.026314Z"
    }
   },
   "outputs": [
    {
     "name": "stdout",
     "output_type": "stream",
     "text": [
      "Tamando da amostra do grupo de controle: 4720.\n",
      "Tamando da amostra do grupo de tratamento: 4720.\n"
     ]
    }
   ],
   "source": [
    "# Amostragem do Grupo de Controle\n",
    "df_control_sample = df3[df3['group'] == 'control'].sample(n=tamanho_amostra, random_state=42)\n",
    "\n",
    "# Amostragem do Grupo de Tratamento\n",
    "df_treatment_sample = df3[df3['group'] == 'treatment'].sample(n=tamanho_amostra, random_state=42)\n",
    "\n",
    "# Exibição\n",
    "print('Tamando da amostra do grupo de controle: {}.'.format(df_control_sample.shape[0]))\n",
    "print('Tamando da amostra do grupo de tratamento: {}.'.format(df_treatment_sample.shape[0]))"
   ]
  },
  {
   "cell_type": "markdown",
   "id": "025428ac",
   "metadata": {},
   "source": [
    "## 3.3 -  Cálculo da Conversão dos Grupos(Taxa de Conversão)"
   ]
  },
  {
   "cell_type": "code",
   "execution_count": 26,
   "id": "b294d9b8",
   "metadata": {
    "ExecuteTime": {
     "end_time": "2022-12-03T19:53:02.529158Z",
     "start_time": "2022-12-03T19:53:02.507215Z"
    }
   },
   "outputs": [
    {
     "name": "stdout",
     "output_type": "stream",
     "text": [
      "Taxa de conversão no grupo de controle: 11.55%.\n",
      "Taxa de conversão no grupo de tratamento: 12.9%.\n"
     ]
    }
   ],
   "source": [
    "# ------------------------ Métrica Grupo de Controle --------------------\n",
    "\n",
    "# Quantidade de Conversões\n",
    "sales = df_control_sample[df_control_sample['converted'] == 1]['converted'].sum()\n",
    "\n",
    "# Quantidade de Visitas\n",
    "visit = len(df_control_sample)\n",
    "\n",
    "# Taxa de Conversão do Grupo de Controle\n",
    "taxa_conversao_controle = round(sales/visit, 4)\n",
    "\n",
    "# ------------------------ Métrica Grupo de Tratamento --------------------\n",
    "\n",
    "# Quantidade de Conversões\n",
    "sales = df_treatment_sample[df_treatment_sample['converted'] == 1]['converted'].sum()\n",
    "\n",
    "# Quantidade de Visitas\n",
    "visit = len(df_treatment_sample)\n",
    "\n",
    "# Taxa de Conversão do Grupo de Controle\n",
    "taxa_conversao_tratamento = round(sales/visit, 4)\n",
    "\n",
    "# ------------ Exibição das Métricas ----------------------\n",
    "\n",
    "print('Taxa de conversão no grupo de controle: {}%.'.format(taxa_conversao_controle*100))\n",
    "print('Taxa de conversão no grupo de tratamento: {}%.'.format(taxa_conversao_tratamento*100))"
   ]
  },
  {
   "cell_type": "markdown",
   "id": "9090741f",
   "metadata": {},
   "source": [
    "# 4.0 - Teste de Hipóteses"
   ]
  },
  {
   "cell_type": "markdown",
   "id": "8fbd1f8d",
   "metadata": {},
   "source": [
    "## 4.1 - Determinação do Teste"
   ]
  },
  {
   "cell_type": "markdown",
   "id": "b03bbd7a",
   "metadata": {
    "ExecuteTime": {
     "end_time": "2022-12-03T14:50:07.215884Z",
     "start_time": "2022-12-03T14:50:07.186960Z"
    }
   },
   "source": [
    "**1.** Qual o tipo dos dados?\n",
    "    - Dados Binários.\n",
    "    \n",
    "**2.** Qual o tamanho da amostra?\n",
    "    - 4720\n",
    "    \n",
    "**3.** Quantos grupos?\n",
    "    - 2 Grupos\n",
    "    \n",
    "**Teste Escolhido:** Chi-Quadrado"
   ]
  },
  {
   "cell_type": "markdown",
   "id": "a62c7895",
   "metadata": {},
   "source": [
    "## 4.2 - Teste Chi-Quadrado."
   ]
  },
  {
   "cell_type": "code",
   "execution_count": 27,
   "id": "c45b5696",
   "metadata": {
    "ExecuteTime": {
     "end_time": "2022-12-03T19:53:03.725609Z",
     "start_time": "2022-12-03T19:53:03.689667Z"
    }
   },
   "outputs": [
    {
     "name": "stdout",
     "output_type": "stream",
     "text": [
      "p-valor do teste: 0.04776195869945799\n",
      "Nível de Significância do Teste Bicaudal: 0.025\n",
      "Falhamos em rejeitar a hipótese nula.\n"
     ]
    }
   ],
   "source": [
    "# -------- Ajuste dos dados para o teste -----------------------\n",
    "\n",
    "# Junção das amostras de controle e tratamento.\n",
    "df_tabela = pd.concat([df_control_sample, df_treatment_sample])\n",
    "\n",
    "# Dados para a realização do teste.\n",
    "df_test = df_tabela[['group', 'converted']].groupby('group').agg(converted = ('converted', 'sum'),\n",
    "                                                                 non_converted = ('converted', 'count'))\n",
    "\n",
    "# Reajuste dos não convertidos.\n",
    "df_test['non_converted'] = df_test['non_converted'] - df_test['converted']\n",
    "\n",
    "# realização do teste\n",
    "chi2, p_valor, dof, expected = chi2_contingency(df_test)\n",
    "\n",
    "print('p-valor do teste: {}'.format(p_valor))\n",
    "print('Nível de Significância do Teste Bicaudal: {}'.format(round(nivel_significancia/2,3)))\n",
    "\n",
    "if p_valor < (nivel_significancia/2):\n",
    "    print('Rejeitamos a hipótese nula.')\n",
    "else:\n",
    "    print('Falhamos em rejeitar a hipótese nula.')"
   ]
  },
  {
   "cell_type": "markdown",
   "id": "150776d6",
   "metadata": {},
   "source": [
    "# 5.0 - Respondendo as perguntas do CEO."
   ]
  },
  {
   "cell_type": "markdown",
   "id": "78d3ef32",
   "metadata": {},
   "source": [
    "**1.** A conversão da nova página é realmente melhor do a conversão da página atual?\n",
    "    \n",
    "    - A resposta é não. A sugestão a se dar ao time de negócio é que refaçam o design da página novamente com o objetivo de melhorar a taxa de conversão, ou, realizar uma nova reamostragem que tomaria mais tempo para coleta gerando mais custos para a empresa."
   ]
  },
  {
   "cell_type": "markdown",
   "id": "591033ca",
   "metadata": {
    "ExecuteTime": {
     "end_time": "2022-12-03T18:58:28.783066Z",
     "start_time": "2022-12-03T18:58:28.773076Z"
    }
   },
   "source": [
    "**2.** Qual o potencial de número de vendas que a nova página pode trazer?\n",
    "\n",
    "    - Como o nosso teste nos disse que a página atual e a nova possuem a mesma taxa de conversão, então o potencial de vendas se mantém o mesmo da página antiga."
   ]
  },
  {
   "cell_type": "markdown",
   "id": "7061b977",
   "metadata": {},
   "source": [
    "**3.** Qual o faturamento total na venda do teclado bluetooth através da nova página?\n",
    "    \n",
    "    - Como o nosso teste nos disse que a página atual e a nova possuem a mesma taxa de conversão, então o faturamento total de vendas da página nova se mantém o mesmo em relação ao teclado bluetooth.\n",
    "    "
   ]
  }
 ],
 "metadata": {
  "kernelspec": {
   "display_name": "Python 3 (ipykernel)",
   "language": "python",
   "name": "python3"
  },
  "language_info": {
   "codemirror_mode": {
    "name": "ipython",
    "version": 3
   },
   "file_extension": ".py",
   "mimetype": "text/x-python",
   "name": "python",
   "nbconvert_exporter": "python",
   "pygments_lexer": "ipython3",
   "version": "3.8.0"
  }
 },
 "nbformat": 4,
 "nbformat_minor": 5
}
