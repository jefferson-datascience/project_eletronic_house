{
 "cells": [
  {
   "cell_type": "markdown",
   "id": "3070e3e9",
   "metadata": {},
   "source": [
    "## Planejamento de Solução(Método IoT) - Empresa Eletronic House"
   ]
  },
  {
   "cell_type": "markdown",
   "id": "f3467986",
   "metadata": {},
   "source": [
    "### Entrada(Input)"
   ]
  },
  {
   "cell_type": "markdown",
   "id": "d297e2bc",
   "metadata": {},
   "source": [
    "#### Problema de Negócio"
   ]
  },
  {
   "cell_type": "markdown",
   "id": "4e26b94c",
   "metadata": {},
   "source": [
    "A Electronic House é um comercio online ( e-commerce ) de produtos de informática para casas e escritórios. Os clientes podem comprar mouses, monitores, teclados, computadores, laptops, cabos HDMI, fones de ouvido, cameras webcam, entre outros, através de um site online e recebem os produtos no conforto de suas casas. O time de UX designers vem trabalhando em uma nova página de vendas, com o objetivo de aumentar a taxa de conversão de um produto da loja, um teclado bluetooth. O product manager (gerente de produto) disse que a taxa de conversão da página atual é de 13% em média, no último ano. \n",
    "\n",
    "O objetivo do product manager é aumentar a taxa de conversão em 2%, ou seja, a nova página de vendas, desenvolvida pelo time de UX, seria um sucesso se a sua taxa de conversão fosse de 15%. O teclado bluetooth possui um preço de venda de R$ 4.500,00 à vista ou parcelado em 12% sem juros no cartão de crédito. \n",
    "\n",
    "Antes de trocar a página de vendas antiga pela nova, o product manager gostaria de testar a efetividade da nova página em um grupo menor de clientes, a fim de correr menos riscos de queda da conversão, caso a página nova mostre uma conversão pior do que a página atual.\n",
    "\n",
    "Você foi contratado como um freelancer pela Electronic House para ajudar o time de Designers da nova página, a validar a sua efetividade de uma maneira mais segura, com mais confiança e rigidez na análise."
   ]
  },
  {
   "cell_type": "markdown",
   "id": "40fec471",
   "metadata": {
    "ExecuteTime": {
     "end_time": "2022-11-24T15:46:32.153438Z",
     "start_time": "2022-11-24T15:46:32.140472Z"
    },
    "heading_collapsed": true
   },
   "source": [
    "#### Questão de Negócio"
   ]
  },
  {
   "cell_type": "markdown",
   "id": "1e1e512e",
   "metadata": {
    "hidden": true
   },
   "source": [
    "**1.** A conversão da nova página é realmente melhor do a conversão da página atual?\n",
    "\n",
    "**2.** Qual o potencial de número de vendas que a nova página pode trazer?\n",
    "\n",
    "**3.** Qual o faturamento total na venda do teclado bluetooth através da nova página?"
   ]
  },
  {
   "cell_type": "markdown",
   "id": "3074a29a",
   "metadata": {
    "heading_collapsed": true
   },
   "source": [
    "#### Fonte de Dados"
   ]
  },
  {
   "cell_type": "markdown",
   "id": "079170b5",
   "metadata": {
    "hidden": true
   },
   "source": [
    "https://www.kaggle.com/datasets/zhangluyuan/ab-testing?select=ab_data.csv"
   ]
  },
  {
   "cell_type": "markdown",
   "id": "bab8e441",
   "metadata": {
    "heading_collapsed": true
   },
   "source": [
    "### Saída (Output)"
   ]
  },
  {
   "cell_type": "markdown",
   "id": "d784311f",
   "metadata": {
    "hidden": true
   },
   "source": [
    "\n",
    "- Um gráfico apresentando as taxas de conversões e uma frase informando a página com melhor desempenho.\n",
    "- Um gráfico apresentando um potencial de vendas comparando as duas páginas.\n",
    "- Texto apresentando o faturamento estimado do teclado com a página nova."
   ]
  },
  {
   "cell_type": "markdown",
   "id": "81033e1d",
   "metadata": {
    "ExecuteTime": {
     "end_time": "2022-11-24T15:57:18.024382Z",
     "start_time": "2022-11-24T15:57:18.012417Z"
    }
   },
   "source": [
    "### Tarefas (Tasks)"
   ]
  },
  {
   "cell_type": "markdown",
   "id": "a255b0f5",
   "metadata": {},
   "source": [
    "#### 1. A conversão da nova página é realmente melhor do a conversão da página atual?\n"
   ]
  },
  {
   "cell_type": "markdown",
   "id": "ee55d1b7",
   "metadata": {},
   "source": [
    "- **Escolha do Método:** Teste de Hipótese + Teste A/B\n",
    "\n",
    "\n",
    "- **Design de Experimento:**\n",
    "    - Criar a Hipótese Nula e Hipótese Alternativa.\n",
    "    - Escolha da Variável Métrica.\n",
    "    - Determinar o tipo de teste (unicaldal ou bicaldal).\n",
    "    - Montar os grupos de controle, tratamento e determinar o tamanho da amostra.\n",
    "    \n",
    "- **Coletar os Dados**\n",
    "    - Coleta dos dados e limpar eles.\n",
    "    - Verificar se todos estão rotulados.\n",
    "    - Determinar as Ferramentas do teste A/B.\n",
    "    - Calcular as conversões;\n",
    "    \n",
    "- **Testando as Hipóteses**\n",
    "    - Realizar a inferência estatística e calcular o p-valor\n",
    "    \n",
    "- **Responder a questão**\n",
    "    - Qauntidade de Finalizações realizados em cada grupo e o faturamento retornado de cada um."
   ]
  },
  {
   "cell_type": "markdown",
   "id": "a2496bbf",
   "metadata": {
    "ExecuteTime": {
     "end_time": "2022-11-24T18:02:24.875333Z",
     "start_time": "2022-11-24T18:02:24.868351Z"
    }
   },
   "source": [
    "#### **2.** Qual o potencial de número de vendas que a nova página pode trazer?\n"
   ]
  },
  {
   "cell_type": "markdown",
   "id": "1d627bcf",
   "metadata": {
    "ExecuteTime": {
     "end_time": "2022-11-24T18:07:50.002220Z",
     "start_time": "2022-11-24T18:07:49.909467Z"
    }
   },
   "source": [
    "- tomar a diferença percentual entre a página antiga e nova e calcular o número de vendas sobre esse percentual. Apresentar em um texto\n",
    "- Apresentar um gráfico mostrando essa difereça"
   ]
  },
  {
   "cell_type": "markdown",
   "id": "49dbff5b",
   "metadata": {},
   "source": [
    "#### 3. Qual o faturamento total na venda do teclado bluetooth através da nova página?"
   ]
  },
  {
   "cell_type": "markdown",
   "id": "2497cb62",
   "metadata": {
    "ExecuteTime": {
     "end_time": "2022-11-24T18:08:57.762147Z",
     "start_time": "2022-11-24T18:08:57.739211Z"
    }
   },
   "source": [
    "- Tomamos o número da conversão em número de vendas e multiplicamos pelo valor do teclado."
   ]
  }
 ],
 "metadata": {
  "kernelspec": {
   "display_name": "Python 3 (ipykernel)",
   "language": "python",
   "name": "python3"
  },
  "language_info": {
   "codemirror_mode": {
    "name": "ipython",
    "version": 3
   },
   "file_extension": ".py",
   "mimetype": "text/x-python",
   "name": "python",
   "nbconvert_exporter": "python",
   "pygments_lexer": "ipython3",
   "version": "3.8.0"
  }
 },
 "nbformat": 4,
 "nbformat_minor": 5
}
