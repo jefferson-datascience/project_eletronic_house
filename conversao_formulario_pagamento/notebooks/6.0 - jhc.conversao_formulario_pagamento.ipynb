{
 "cells": [
  {
   "cell_type": "markdown",
   "id": "c33dcd72",
   "metadata": {
    "ExecuteTime": {
     "end_time": "2022-12-07T13:51:21.254361Z",
     "start_time": "2022-12-07T13:51:21.239404Z"
    }
   },
   "source": [
    "# 0.0 Imports"
   ]
  },
  {
   "cell_type": "code",
   "execution_count": 1,
   "id": "7e33408d",
   "metadata": {
    "ExecuteTime": {
     "end_time": "2022-12-12T18:07:52.387681Z",
     "start_time": "2022-12-12T18:07:18.136863Z"
    }
   },
   "outputs": [],
   "source": [
    "import pandas            as pd\n",
    "import numpy             as np\n",
    "import seaborn           as sns\n",
    "import matplotlib.pyplot as plt \n",
    "\n",
    "from scipy.stats         import shapiro, ttest_ind\n",
    "from statsmodels.stats   import power"
   ]
  },
  {
   "cell_type": "markdown",
   "id": "edcbe69f",
   "metadata": {},
   "source": [
    "## 0.1 - Carregamento dos Dados"
   ]
  },
  {
   "cell_type": "code",
   "execution_count": 4,
   "id": "5f4c5b33",
   "metadata": {
    "ExecuteTime": {
     "end_time": "2022-12-12T18:07:55.948960Z",
     "start_time": "2022-12-12T18:07:55.868399Z"
    }
   },
   "outputs": [],
   "source": [
    "df_raw = pd.read_csv('../data/raw/ab_testing.csv')"
   ]
  },
  {
   "cell_type": "code",
   "execution_count": 5,
   "id": "180d30d2",
   "metadata": {
    "ExecuteTime": {
     "end_time": "2022-12-12T18:07:56.372845Z",
     "start_time": "2022-12-12T18:07:56.349907Z"
    }
   },
   "outputs": [
    {
     "data": {
      "text/html": [
       "<div>\n",
       "<style scoped>\n",
       "    .dataframe tbody tr th:only-of-type {\n",
       "        vertical-align: middle;\n",
       "    }\n",
       "\n",
       "    .dataframe tbody tr th {\n",
       "        vertical-align: top;\n",
       "    }\n",
       "\n",
       "    .dataframe thead th {\n",
       "        text-align: right;\n",
       "    }\n",
       "</style>\n",
       "<table border=\"1\" class=\"dataframe\">\n",
       "  <thead>\n",
       "    <tr style=\"text-align: right;\">\n",
       "      <th></th>\n",
       "      <th>uid</th>\n",
       "      <th>country</th>\n",
       "      <th>gender</th>\n",
       "      <th>spent</th>\n",
       "      <th>purchases</th>\n",
       "      <th>date</th>\n",
       "      <th>group</th>\n",
       "      <th>device</th>\n",
       "    </tr>\n",
       "  </thead>\n",
       "  <tbody>\n",
       "    <tr>\n",
       "      <th>0</th>\n",
       "      <td>11115722</td>\n",
       "      <td>MEX</td>\n",
       "      <td>F</td>\n",
       "      <td>1595</td>\n",
       "      <td>5</td>\n",
       "      <td>2016-03-08</td>\n",
       "      <td>GRP B</td>\n",
       "      <td>I</td>\n",
       "    </tr>\n",
       "    <tr>\n",
       "      <th>1</th>\n",
       "      <td>11122053</td>\n",
       "      <td>USA</td>\n",
       "      <td>M</td>\n",
       "      <td>498</td>\n",
       "      <td>2</td>\n",
       "      <td>2017-07-14</td>\n",
       "      <td>GRP B</td>\n",
       "      <td>I</td>\n",
       "    </tr>\n",
       "    <tr>\n",
       "      <th>2</th>\n",
       "      <td>11128688</td>\n",
       "      <td>USA</td>\n",
       "      <td>F</td>\n",
       "      <td>2394</td>\n",
       "      <td>6</td>\n",
       "      <td>2017-09-17</td>\n",
       "      <td>GRP A</td>\n",
       "      <td>I</td>\n",
       "    </tr>\n",
       "    <tr>\n",
       "      <th>3</th>\n",
       "      <td>11130578</td>\n",
       "      <td>USA</td>\n",
       "      <td>F</td>\n",
       "      <td>1197</td>\n",
       "      <td>3</td>\n",
       "      <td>2017-11-30</td>\n",
       "      <td>GRP A</td>\n",
       "      <td>I</td>\n",
       "    </tr>\n",
       "    <tr>\n",
       "      <th>4</th>\n",
       "      <td>11130759</td>\n",
       "      <td>ESP</td>\n",
       "      <td>M</td>\n",
       "      <td>1297</td>\n",
       "      <td>3</td>\n",
       "      <td>2018-01-10</td>\n",
       "      <td>GRP B</td>\n",
       "      <td>A</td>\n",
       "    </tr>\n",
       "  </tbody>\n",
       "</table>\n",
       "</div>"
      ],
      "text/plain": [
       "        uid country gender  spent  purchases        date  group device\n",
       "0  11115722     MEX      F   1595          5  2016-03-08  GRP B      I\n",
       "1  11122053     USA      M    498          2  2017-07-14  GRP B      I\n",
       "2  11128688     USA      F   2394          6  2017-09-17  GRP A      I\n",
       "3  11130578     USA      F   1197          3  2017-11-30  GRP A      I\n",
       "4  11130759     ESP      M   1297          3  2018-01-10  GRP B      A"
      ]
     },
     "execution_count": 5,
     "metadata": {},
     "output_type": "execute_result"
    }
   ],
   "source": [
    "df_raw.head()"
   ]
  },
  {
   "cell_type": "code",
   "execution_count": 6,
   "id": "c50e6c5d",
   "metadata": {
    "ExecuteTime": {
     "end_time": "2022-12-12T18:07:57.097210Z",
     "start_time": "2022-12-12T18:07:56.947140Z"
    }
   },
   "outputs": [
    {
     "data": {
      "text/plain": [
       "['MEX', 'USA', 'ESP', 'GBR', 'TUR', 'DEU', 'BRA', 'FRA', 'AUS', 'CAN']"
      ]
     },
     "execution_count": 6,
     "metadata": {},
     "output_type": "execute_result"
    }
   ],
   "source": [
    "# Países\n",
    "df_raw['country'].unique().tolist()"
   ]
  },
  {
   "cell_type": "markdown",
   "id": "c0de9069",
   "metadata": {},
   "source": [
    "## 0.2 - Helper Functions  "
   ]
  },
  {
   "cell_type": "code",
   "execution_count": 7,
   "id": "aa68898c",
   "metadata": {
    "ExecuteTime": {
     "end_time": "2022-12-12T18:08:00.114911Z",
     "start_time": "2022-12-12T18:08:00.091941Z"
    }
   },
   "outputs": [],
   "source": [
    "def sample_size_site_by_country(country, percentual=0.08): \n",
    "    \n",
    "    # DataFrame com os Dados do País\n",
    "    df_country = df_raw[df_raw['country'] == country].copy()\n",
    "    \n",
    "    # DataFrame com os dado do site do país.\n",
    "    df_country_site = df_country[df_country['device'] == 'I']\n",
    "    \n",
    "    # -------------------------- Determinação do Tamanho da Amostra para cada país ------------------------------\n",
    "\n",
    "    # Nível de confiança\n",
    "    nivel_confianca = 0.95\n",
    "\n",
    "    # Nivel de significância\n",
    "    nivel_significancia = 1 - nivel_confianca \n",
    "\n",
    "    # Poder estatístico\n",
    "    power_stats = 0.8\n",
    "\n",
    "    # ----------- Tamanho de Efeito ---------------\n",
    "\n",
    "    # média do grupo de controle\n",
    "    m1 = np.mean(df_country_site['spent'].values)\n",
    "\n",
    "    # Média esperada do grupo de tratamento\n",
    "    m2 = m1*(1+percentual) # percentual default = 0.08\n",
    "\n",
    "    # Tamanho do Efeito. (Cohen'd)\n",
    "    effect_size = (m2 - m1)/np.std(df_country_site['spent'].values)\n",
    "\n",
    "    # Tamanho da Amostra\n",
    "    tamanho_amostra = power.tt_ind_solve_power(effect_size=effect_size, alpha=nivel_significancia, power=0.8)\n",
    "    \n",
    "    \n",
    "    print('================================================================================')\n",
    "    print('Lift Esperado: {}'.format(percentual))\n",
    "    print('País Analisado: {}'.format(country))\n",
    "    print('Tamanho da Amostra Cada Grupo: {}'.format(int(tamanho_amostra)))\n",
    "    print('Quantidade de Dados: {}.'.format(df_country_site.shape[0]))\n",
    "    \n",
    "    if df_country_site.shape[0] < tamanho_amostra*2:\n",
    "        print('Falta dados para realizar a amostra. Logo, o teste é inviável.')\n",
    "        return None\n",
    "    else:\n",
    "        print('Dados suficiente para realizar a amostra. Seguir com a validação da hipótese.')\n",
    "        return int(tamanho_amostra)\n",
    "    print('=================================================================================')\n",
    "    print('\\n')\n",
    "    \n",
    "    \n",
    "# ---------------------------------------------------------------    \n",
    "    \n",
    "    \n",
    "def sample_size_app_by_country(country, percentual=0.08):\n",
    "    \n",
    "    # Variável tem que ser uma string. \n",
    "    \n",
    "    # DataFrame com os Dados do País\n",
    "    df_country = df_raw[df_raw['country'] == country].copy()\n",
    "    \n",
    "    # DataFrame com os dado do site do país.\n",
    "    df_country_app = df_country[df_country['device'] == 'A']\n",
    "    \n",
    "    # -------------------------- Determinação do Tamanho da Amostra para cada país ------------------------------\n",
    "\n",
    "    # Nível de confiança\n",
    "    nivel_confianca = 0.95\n",
    "\n",
    "    # Nivel de significância\n",
    "    nivel_significancia = 1 - nivel_confianca \n",
    "\n",
    "    # Poder estatístico\n",
    "    power_stats = 0.8\n",
    "\n",
    "    # ----------- Tamanho de Efeito ---------------\n",
    "\n",
    "    # média do grupo de controle\n",
    "    m1 = np.mean(df_country_app['spent'].values)\n",
    "\n",
    "    # Média esperada do grupo de tratamento\n",
    "    m2 = m1*(1+percentual)\n",
    "\n",
    "    # Tamanho do Efeito.\n",
    "    effect_size = (m2 - m1)/np.std(df_country_app['spent'].values)\n",
    "\n",
    "    # Tamanho da Amostra\n",
    "    tamanho_amostra = power.tt_ind_solve_power(effect_size=effect_size, alpha=nivel_significancia, power=0.8)\n",
    "    \n",
    "    print('================================================================================')\n",
    "    print('Lift Esperado: {}'.format(percentual))\n",
    "    print('País Analisado: {}'.format(country))\n",
    "    print('Tamanho da Amostra Cada Grupo: {}'.format(int(tamanho_amostra)))\n",
    "    print('Quantidade de Dados: {}.'.format(df_country_app.shape[0]))\n",
    "    \n",
    "    if df_country_app.shape[0] < tamanho_amostra*2:\n",
    "        print('Falta dados para realizar a amostra. Logo, o teste é inviável.')\n",
    "        return None\n",
    "    else:\n",
    "        print('Dados suficiente para realizar a amostra. Seguir com a validação da hipótese.')\n",
    "        return int(tamanho_amostra)\n",
    "    print('=================================================================================')\n",
    "    print('\\n')"
   ]
  },
  {
   "cell_type": "markdown",
   "id": "145537bf",
   "metadata": {},
   "source": [
    "# 1.0 - Design de Experimento"
   ]
  },
  {
   "cell_type": "markdown",
   "id": "eff28fbc",
   "metadata": {
    "ExecuteTime": {
     "end_time": "2022-12-07T13:57:10.875584Z",
     "start_time": "2022-12-07T13:57:10.865610Z"
    }
   },
   "source": [
    "## 1.1 - Escolha do Método"
   ]
  },
  {
   "cell_type": "markdown",
   "id": "b642cd4c",
   "metadata": {},
   "source": [
    "**Qual o método que será utilizado?** \n",
    "    \n",
    "    - Será utilizado o teste de hipótese.\n",
    "    - Usaremos o teste A/B para realizar esse procedimento.\n",
    "    "
   ]
  },
  {
   "cell_type": "markdown",
   "id": "68a3997d",
   "metadata": {},
   "source": [
    "## 1.2 - Formulação da Hipóteses"
   ]
  },
  {
   "cell_type": "markdown",
   "id": "1b868d00",
   "metadata": {},
   "source": [
    "**Observação:** No nosso dataframe, nós temos a exibição dos formulários de preenchimento manual e automático em alguns países que a Eletronic HOuse atende. \n",
    "\n",
    "Dessa forma, para realizar o nosso experimento de forma mais eficaz, o teste será realizado por cada país e sobre os dados do site e do app separadamente. \n",
    "\n",
    "Logo, as hipóteses formuladas abaixo vão valer para cada país."
   ]
  },
  {
   "cell_type": "markdown",
   "id": "59f7b278",
   "metadata": {},
   "source": [
    "### 1.2.1 - Compras realizadas pelo site"
   ]
  },
  {
   "cell_type": "markdown",
   "id": "c10c1bcb",
   "metadata": {},
   "source": [
    "**Métrica:** A métrica será a média quantidade gasta no site.\n",
    "    \n",
    "**Hipótese Nula:** O preechimento automático e o preenchimento manual possuem a mesma média de quantidade gasta pelo site.\n",
    "\n",
    "**Hipótese Alternativa:** O preechimento automático e o preenchimento manual possuem média de compras finalizadas diferentes pelo site."
   ]
  },
  {
   "cell_type": "markdown",
   "id": "bc0e24cc",
   "metadata": {},
   "source": [
    "### 1.2.2 - Compras realizadas pelo app"
   ]
  },
  {
   "cell_type": "markdown",
   "id": "e396377c",
   "metadata": {},
   "source": [
    "**Métrica:** A métrica será a média quantidade gasta no app.\n",
    "    \n",
    "**Hipótese Nula:** O preechimento automático e o preenchimento manual possuem a mesma média de quantidade gasta pelo app\n",
    ".\n",
    "\n",
    "**Hipótese Alternativa:** O preechimento automático e o preenchimento manual possuem média de quantidades gastas diferentes pelo app."
   ]
  },
  {
   "cell_type": "markdown",
   "id": "37594c9d",
   "metadata": {},
   "source": [
    "## 1.3 - Parâmetros para Determinar o Tamanho da Amostra"
   ]
  },
  {
   "cell_type": "markdown",
   "id": "9fd15011",
   "metadata": {
    "ExecuteTime": {
     "end_time": "2022-12-07T17:11:12.708781Z",
     "start_time": "2022-12-07T17:11:12.689831Z"
    }
   },
   "source": [
    "### 1.3.1 - Tamanho da Amostra para Compras Realizadas no Site"
   ]
  },
  {
   "cell_type": "markdown",
   "id": "c835cd66",
   "metadata": {
    "ExecuteTime": {
     "end_time": "2022-12-07T17:32:07.274390Z",
     "start_time": "2022-12-07T17:32:07.261423Z"
    }
   },
   "source": [
    "#### México"
   ]
  },
  {
   "cell_type": "code",
   "execution_count": 8,
   "id": "c790cc56",
   "metadata": {
    "ExecuteTime": {
     "end_time": "2022-12-12T18:14:19.170654Z",
     "start_time": "2022-12-12T18:14:18.906058Z"
    },
    "hide_input": false
   },
   "outputs": [
    {
     "name": "stdout",
     "output_type": "stream",
     "text": [
      "================================================================================\n",
      "Lift Esperado: 0.08\n",
      "País Analisado: MEX\n",
      "Tamanho da Amostra Cada Grupo: 1244\n",
      "Quantidade de Dados: 2790.\n",
      "Dados suficiente para realizar a amostra. Seguir com a validação da hipótese.\n"
     ]
    }
   ],
   "source": [
    "# tamanho das amostra para compras realizadas no site no México\n",
    "sample_size_site_mex = sample_size_site_by_country('MEX')"
   ]
  },
  {
   "cell_type": "markdown",
   "id": "e03e0cad",
   "metadata": {
    "ExecuteTime": {
     "end_time": "2022-12-07T17:32:07.274390Z",
     "start_time": "2022-12-07T17:32:07.261423Z"
    }
   },
   "source": [
    "#### Estados Unidos"
   ]
  },
  {
   "cell_type": "code",
   "execution_count": 9,
   "id": "b0728d58",
   "metadata": {
    "ExecuteTime": {
     "end_time": "2022-12-12T18:14:28.533019Z",
     "start_time": "2022-12-12T18:14:28.493781Z"
    }
   },
   "outputs": [
    {
     "name": "stdout",
     "output_type": "stream",
     "text": [
      "================================================================================\n",
      "Lift Esperado: 0.08\n",
      "País Analisado: USA\n",
      "Tamanho da Amostra Cada Grupo: 1281\n",
      "Quantidade de Dados: 6957.\n",
      "Dados suficiente para realizar a amostra. Seguir com a validação da hipótese.\n"
     ]
    }
   ],
   "source": [
    "# tamanho das amostra para compras realizadas no site no Estados Unidos\n",
    "sample_size_site_usa = sample_size_site_by_country('USA')"
   ]
  },
  {
   "cell_type": "markdown",
   "id": "32b37fe8",
   "metadata": {
    "ExecuteTime": {
     "end_time": "2022-12-07T17:32:07.274390Z",
     "start_time": "2022-12-07T17:32:07.261423Z"
    }
   },
   "source": [
    "#### Espanha"
   ]
  },
  {
   "cell_type": "code",
   "execution_count": 10,
   "id": "3d72d115",
   "metadata": {
    "ExecuteTime": {
     "end_time": "2022-12-12T18:14:33.533320Z",
     "start_time": "2022-12-12T18:14:33.509384Z"
    }
   },
   "outputs": [
    {
     "name": "stdout",
     "output_type": "stream",
     "text": [
      "================================================================================\n",
      "Lift Esperado: 0.08\n",
      "País Analisado: ESP\n",
      "Tamanho da Amostra Cada Grupo: 1181\n",
      "Quantidade de Dados: 994.\n",
      "Falta dados para realizar a amostra. Logo, o teste é inviável.\n"
     ]
    }
   ],
   "source": [
    "# tamanho das amostra para compras realizadas no site no Espanha\n",
    "sample_size_site_esp = sample_size_site_by_country('ESP')"
   ]
  },
  {
   "cell_type": "markdown",
   "id": "142b1dcf",
   "metadata": {
    "ExecuteTime": {
     "end_time": "2022-12-07T17:32:07.274390Z",
     "start_time": "2022-12-07T17:32:07.261423Z"
    }
   },
   "source": [
    "#### Grã-Bretanha\n"
   ]
  },
  {
   "cell_type": "code",
   "execution_count": 11,
   "id": "bf180513",
   "metadata": {
    "ExecuteTime": {
     "end_time": "2022-12-12T18:14:47.291727Z",
     "start_time": "2022-12-12T18:14:47.267755Z"
    }
   },
   "outputs": [
    {
     "name": "stdout",
     "output_type": "stream",
     "text": [
      "================================================================================\n",
      "Lift Esperado: 0.08\n",
      "País Analisado: GBR\n",
      "Tamanho da Amostra Cada Grupo: 1264\n",
      "Quantidade de Dados: 1375.\n",
      "Falta dados para realizar a amostra. Logo, o teste é inviável.\n"
     ]
    }
   ],
   "source": [
    "# tamanho das amostra para compras realizadas no site no Grã-Bretanha\n",
    "sample_size_site_grb = sample_size_site_by_country('GBR', 0.08)"
   ]
  },
  {
   "cell_type": "markdown",
   "id": "59783e01",
   "metadata": {
    "ExecuteTime": {
     "end_time": "2022-12-07T17:32:07.274390Z",
     "start_time": "2022-12-07T17:32:07.261423Z"
    }
   },
   "source": [
    "#### Turquia"
   ]
  },
  {
   "cell_type": "code",
   "execution_count": 12,
   "id": "b2e96f1b",
   "metadata": {
    "ExecuteTime": {
     "end_time": "2022-12-12T18:14:49.736584Z",
     "start_time": "2022-12-12T18:14:49.702571Z"
    }
   },
   "outputs": [
    {
     "name": "stdout",
     "output_type": "stream",
     "text": [
      "================================================================================\n",
      "Lift Esperado: 0.08\n",
      "País Analisado: TUR\n",
      "Tamanho da Amostra Cada Grupo: 1296\n",
      "Quantidade de Dados: 1815.\n",
      "Falta dados para realizar a amostra. Logo, o teste é inviável.\n"
     ]
    }
   ],
   "source": [
    "# tamanho das amostra para compras realizadas no site no Turquia\n",
    "sample_size_site_tur = sample_size_site_by_country('TUR')"
   ]
  },
  {
   "cell_type": "markdown",
   "id": "04e20ec3",
   "metadata": {
    "ExecuteTime": {
     "end_time": "2022-12-07T17:32:07.274390Z",
     "start_time": "2022-12-07T17:32:07.261423Z"
    }
   },
   "source": [
    "#### Alemanha"
   ]
  },
  {
   "cell_type": "code",
   "execution_count": 13,
   "id": "4f7b66fe",
   "metadata": {
    "ExecuteTime": {
     "end_time": "2022-12-12T18:14:51.428855Z",
     "start_time": "2022-12-12T18:14:51.399900Z"
    }
   },
   "outputs": [
    {
     "name": "stdout",
     "output_type": "stream",
     "text": [
      "================================================================================\n",
      "Lift Esperado: 0.08\n",
      "País Analisado: DEU\n",
      "Tamanho da Amostra Cada Grupo: 1340\n",
      "Quantidade de Dados: 1848.\n",
      "Falta dados para realizar a amostra. Logo, o teste é inviável.\n"
     ]
    }
   ],
   "source": [
    "# tamanho das amostra para compras realizadas no site no Alemanha\n",
    "sample_size_site_deu = sample_size_site_by_country('DEU')"
   ]
  },
  {
   "cell_type": "markdown",
   "id": "d58ea106",
   "metadata": {},
   "source": [
    "#### Brasil"
   ]
  },
  {
   "cell_type": "code",
   "execution_count": 14,
   "id": "5b839b55",
   "metadata": {
    "ExecuteTime": {
     "end_time": "2022-12-12T18:14:53.334424Z",
     "start_time": "2022-12-12T18:14:53.311448Z"
    }
   },
   "outputs": [
    {
     "name": "stdout",
     "output_type": "stream",
     "text": [
      "================================================================================\n",
      "Lift Esperado: 0.08\n",
      "País Analisado: BRA\n",
      "Tamanho da Amostra Cada Grupo: 1313\n",
      "Quantidade de Dados: 4517.\n",
      "Dados suficiente para realizar a amostra. Seguir com a validação da hipótese.\n"
     ]
    }
   ],
   "source": [
    "# tamanho das amostra para compras realizadas no site no Brasil\n",
    "sample_size_site_bra = sample_size_site_by_country('BRA')"
   ]
  },
  {
   "cell_type": "markdown",
   "id": "547c2ca9",
   "metadata": {
    "ExecuteTime": {
     "end_time": "2022-12-07T17:32:07.274390Z",
     "start_time": "2022-12-07T17:32:07.261423Z"
    }
   },
   "source": [
    "#### França"
   ]
  },
  {
   "cell_type": "code",
   "execution_count": 15,
   "id": "4f29f5f0",
   "metadata": {
    "ExecuteTime": {
     "end_time": "2022-12-12T18:14:56.391808Z",
     "start_time": "2022-12-12T18:14:56.359915Z"
    }
   },
   "outputs": [
    {
     "name": "stdout",
     "output_type": "stream",
     "text": [
      "================================================================================\n",
      "Lift Esperado: 0.08\n",
      "País Analisado: FRA\n",
      "Tamanho da Amostra Cada Grupo: 1296\n",
      "Quantidade de Dados: 1374.\n",
      "Falta dados para realizar a amostra. Logo, o teste é inviável.\n"
     ]
    }
   ],
   "source": [
    "# tamanho das amostra para compras realizadas no site no França\n",
    "sample_size_site_fra = sample_size_site_by_country('FRA')"
   ]
  },
  {
   "cell_type": "markdown",
   "id": "d290009f",
   "metadata": {
    "ExecuteTime": {
     "end_time": "2022-12-07T17:32:07.274390Z",
     "start_time": "2022-12-07T17:32:07.261423Z"
    }
   },
   "source": [
    "#### Austrália"
   ]
  },
  {
   "cell_type": "code",
   "execution_count": 16,
   "id": "79febd1b",
   "metadata": {
    "ExecuteTime": {
     "end_time": "2022-12-12T18:14:58.277820Z",
     "start_time": "2022-12-12T18:14:58.255788Z"
    }
   },
   "outputs": [
    {
     "name": "stdout",
     "output_type": "stream",
     "text": [
      "================================================================================\n",
      "Lift Esperado: 0.08\n",
      "País Analisado: AUS\n",
      "Tamanho da Amostra Cada Grupo: 1222\n",
      "Quantidade de Dados: 498.\n",
      "Falta dados para realizar a amostra. Logo, o teste é inviável.\n"
     ]
    }
   ],
   "source": [
    "# tamanho das amostra para compras realizadas no site no Australia\n",
    "sample_size_site_aus = sample_size_site_by_country('AUS')"
   ]
  },
  {
   "cell_type": "markdown",
   "id": "fddcb752",
   "metadata": {
    "ExecuteTime": {
     "end_time": "2022-12-07T17:32:07.274390Z",
     "start_time": "2022-12-07T17:32:07.261423Z"
    }
   },
   "source": [
    "#### Canada"
   ]
  },
  {
   "cell_type": "code",
   "execution_count": 17,
   "id": "f0cd3cd4",
   "metadata": {
    "ExecuteTime": {
     "end_time": "2022-12-12T18:14:59.953420Z",
     "start_time": "2022-12-12T18:14:59.924499Z"
    },
    "code_folding": []
   },
   "outputs": [
    {
     "name": "stdout",
     "output_type": "stream",
     "text": [
      "================================================================================\n",
      "Lift Esperado: 0.08\n",
      "País Analisado: CAN\n",
      "Tamanho da Amostra Cada Grupo: 1322\n",
      "Quantidade de Dados: 733.\n",
      "Falta dados para realizar a amostra. Logo, o teste é inviável.\n"
     ]
    }
   ],
   "source": [
    "# tamanho das amostra para compras realizadas no site no Canada\n",
    "sample_size_site_can = sample_size_site_by_country('CAN')"
   ]
  },
  {
   "cell_type": "markdown",
   "id": "260625a4",
   "metadata": {},
   "source": [
    "### 1.3.2 - Tamanho da Amostra para Compras Realizadas no App"
   ]
  },
  {
   "cell_type": "markdown",
   "id": "f87778e0",
   "metadata": {},
   "source": [
    "#### México"
   ]
  },
  {
   "cell_type": "code",
   "execution_count": 18,
   "id": "731115e4",
   "metadata": {
    "ExecuteTime": {
     "end_time": "2022-12-12T18:15:23.630199Z",
     "start_time": "2022-12-12T18:15:23.602220Z"
    },
    "code_folding": []
   },
   "outputs": [
    {
     "name": "stdout",
     "output_type": "stream",
     "text": [
      "================================================================================\n",
      "Lift Esperado: 0.08\n",
      "País Analisado: MEX\n",
      "Tamanho da Amostra Cada Grupo: 1270\n",
      "Quantidade de Dados: 2738.\n",
      "Dados suficiente para realizar a amostra. Seguir com a validação da hipótese.\n"
     ]
    }
   ],
   "source": [
    "# tamanho das amostra para compras realizadas no site no México\n",
    "sample_size_app_mex = sample_size_app_by_country('MEX')"
   ]
  },
  {
   "cell_type": "markdown",
   "id": "2d47673b",
   "metadata": {},
   "source": [
    "#### Estados Unidos"
   ]
  },
  {
   "cell_type": "code",
   "execution_count": 19,
   "id": "b6a1ba35",
   "metadata": {
    "ExecuteTime": {
     "end_time": "2022-12-12T18:15:27.080279Z",
     "start_time": "2022-12-12T18:15:27.047076Z"
    }
   },
   "outputs": [
    {
     "name": "stdout",
     "output_type": "stream",
     "text": [
      "================================================================================\n",
      "Lift Esperado: 0.08\n",
      "País Analisado: USA\n",
      "Tamanho da Amostra Cada Grupo: 1290\n",
      "Quantidade de Dados: 7041.\n",
      "Dados suficiente para realizar a amostra. Seguir com a validação da hipótese.\n"
     ]
    }
   ],
   "source": [
    "# tamanho das amostra para compras realizadas no site no Estados Unidos\n",
    "sample_size_app_usa = sample_size_app_by_country('USA')"
   ]
  },
  {
   "cell_type": "markdown",
   "id": "306effe6",
   "metadata": {},
   "source": [
    "#### Espanha"
   ]
  },
  {
   "cell_type": "code",
   "execution_count": 20,
   "id": "12ffcfb9",
   "metadata": {
    "ExecuteTime": {
     "end_time": "2022-12-12T18:15:29.155959Z",
     "start_time": "2022-12-12T18:15:29.131028Z"
    }
   },
   "outputs": [
    {
     "name": "stdout",
     "output_type": "stream",
     "text": [
      "================================================================================\n",
      "Lift Esperado: 0.08\n",
      "País Analisado: ESP\n",
      "Tamanho da Amostra Cada Grupo: 1198\n",
      "Quantidade de Dados: 940.\n",
      "Falta dados para realizar a amostra. Logo, o teste é inviável.\n"
     ]
    }
   ],
   "source": [
    "# tamanho das amostra para compras realizadas no site no Espanha\n",
    "sample_size_app_esp = sample_size_app_by_country('ESP')"
   ]
  },
  {
   "cell_type": "markdown",
   "id": "e93278f1",
   "metadata": {
    "ExecuteTime": {
     "end_time": "2022-12-07T18:05:03.992016Z",
     "start_time": "2022-12-07T18:05:03.982043Z"
    }
   },
   "source": [
    "#### Grã-Bretanha"
   ]
  },
  {
   "cell_type": "code",
   "execution_count": 21,
   "id": "4c2441ab",
   "metadata": {
    "ExecuteTime": {
     "end_time": "2022-12-12T18:15:30.532175Z",
     "start_time": "2022-12-12T18:15:30.499262Z"
    },
    "scrolled": true
   },
   "outputs": [
    {
     "name": "stdout",
     "output_type": "stream",
     "text": [
      "================================================================================\n",
      "Lift Esperado: 0.08\n",
      "País Analisado: GBR\n",
      "Tamanho da Amostra Cada Grupo: 1271\n",
      "Quantidade de Dados: 1434.\n",
      "Falta dados para realizar a amostra. Logo, o teste é inviável.\n"
     ]
    }
   ],
   "source": [
    "# tamanho das amostra para compras realizadas no site no Grã-Bretanha\n",
    "sample_size_app_gbr = sample_size_app_by_country('GBR')"
   ]
  },
  {
   "cell_type": "markdown",
   "id": "c856ac23",
   "metadata": {},
   "source": [
    "#### Turquia"
   ]
  },
  {
   "cell_type": "code",
   "execution_count": 22,
   "id": "b8fc8095",
   "metadata": {
    "ExecuteTime": {
     "end_time": "2022-12-12T18:15:32.157647Z",
     "start_time": "2022-12-12T18:15:32.129755Z"
    }
   },
   "outputs": [
    {
     "name": "stdout",
     "output_type": "stream",
     "text": [
      "================================================================================\n",
      "Lift Esperado: 0.08\n",
      "País Analisado: TUR\n",
      "Tamanho da Amostra Cada Grupo: 1330\n",
      "Quantidade de Dados: 1722.\n",
      "Falta dados para realizar a amostra. Logo, o teste é inviável.\n"
     ]
    }
   ],
   "source": [
    "# tamanho das amostra para compras realizadas no site no Turquia\n",
    "sample_size_app_tur = sample_size_app_by_country('TUR')"
   ]
  },
  {
   "cell_type": "markdown",
   "id": "49fe432e",
   "metadata": {
    "ExecuteTime": {
     "end_time": "2022-12-07T18:05:52.175727Z",
     "start_time": "2022-12-07T18:05:52.166751Z"
    }
   },
   "source": [
    "#### Alemanha"
   ]
  },
  {
   "cell_type": "code",
   "execution_count": 23,
   "id": "00f7cb1a",
   "metadata": {
    "ExecuteTime": {
     "end_time": "2022-12-12T18:15:33.563576Z",
     "start_time": "2022-12-12T18:15:33.534652Z"
    }
   },
   "outputs": [
    {
     "name": "stdout",
     "output_type": "stream",
     "text": [
      "================================================================================\n",
      "Lift Esperado: 0.08\n",
      "País Analisado: DEU\n",
      "Tamanho da Amostra Cada Grupo: 1233\n",
      "Quantidade de Dados: 1848.\n",
      "Falta dados para realizar a amostra. Logo, o teste é inviável.\n"
     ]
    }
   ],
   "source": [
    "# tamanho das amostra para compras realizadas no site no Alemanha\n",
    "sample_size_app_deu = sample_size_app_by_country('DEU')"
   ]
  },
  {
   "cell_type": "markdown",
   "id": "fc283946",
   "metadata": {},
   "source": [
    "#### Brasil"
   ]
  },
  {
   "cell_type": "code",
   "execution_count": 24,
   "id": "21087dbd",
   "metadata": {
    "ExecuteTime": {
     "end_time": "2022-12-12T18:15:35.192148Z",
     "start_time": "2022-12-12T18:15:35.164224Z"
    }
   },
   "outputs": [
    {
     "name": "stdout",
     "output_type": "stream",
     "text": [
      "================================================================================\n",
      "Lift Esperado: 0.08\n",
      "País Analisado: BRA\n",
      "Tamanho da Amostra Cada Grupo: 1339\n",
      "Quantidade de Dados: 4492.\n",
      "Dados suficiente para realizar a amostra. Seguir com a validação da hipótese.\n"
     ]
    }
   ],
   "source": [
    "# tamanho das amostra para compras realizadas no site no Brasil\n",
    "sample_size_app_bra = sample_size_app_by_country('BRA')"
   ]
  },
  {
   "cell_type": "markdown",
   "id": "1717f2d4",
   "metadata": {},
   "source": [
    "#### França"
   ]
  },
  {
   "cell_type": "code",
   "execution_count": 25,
   "id": "f58242b7",
   "metadata": {
    "ExecuteTime": {
     "end_time": "2022-12-12T18:15:36.931062Z",
     "start_time": "2022-12-12T18:15:36.903751Z"
    }
   },
   "outputs": [
    {
     "name": "stdout",
     "output_type": "stream",
     "text": [
      "================================================================================\n",
      "Lift Esperado: 0.08\n",
      "País Analisado: FRA\n",
      "Tamanho da Amostra Cada Grupo: 1271\n",
      "Quantidade de Dados: 1468.\n",
      "Falta dados para realizar a amostra. Logo, o teste é inviável.\n"
     ]
    }
   ],
   "source": [
    "# tamanho das amostra para compras realizadas no site no França\n",
    "sample_size_app_fra = sample_size_app_by_country('FRA')"
   ]
  },
  {
   "cell_type": "markdown",
   "id": "625204d9",
   "metadata": {},
   "source": [
    "#### Austrália"
   ]
  },
  {
   "cell_type": "code",
   "execution_count": 26,
   "id": "b9e306b3",
   "metadata": {
    "ExecuteTime": {
     "end_time": "2022-12-12T18:15:38.531596Z",
     "start_time": "2022-12-12T18:15:38.494662Z"
    }
   },
   "outputs": [
    {
     "name": "stdout",
     "output_type": "stream",
     "text": [
      "================================================================================\n",
      "Lift Esperado: 0.08\n",
      "País Analisado: AUS\n",
      "Tamanho da Amostra Cada Grupo: 1349\n",
      "Quantidade de Dados: 519.\n",
      "Falta dados para realizar a amostra. Logo, o teste é inviável.\n"
     ]
    }
   ],
   "source": [
    "# tamanho das amostra para compras realizadas no site no Australia\n",
    "sample_size_app_aus = sample_size_app_by_country('AUS')"
   ]
  },
  {
   "cell_type": "markdown",
   "id": "c10fff59",
   "metadata": {},
   "source": [
    "#### Canadá"
   ]
  },
  {
   "cell_type": "code",
   "execution_count": 27,
   "id": "2a5d3e47",
   "metadata": {
    "ExecuteTime": {
     "end_time": "2022-12-12T18:15:39.700944Z",
     "start_time": "2022-12-12T18:15:39.679002Z"
    }
   },
   "outputs": [
    {
     "name": "stdout",
     "output_type": "stream",
     "text": [
      "================================================================================\n",
      "Lift Esperado: 0.08\n",
      "País Analisado: CAN\n",
      "Tamanho da Amostra Cada Grupo: 1322\n",
      "Quantidade de Dados: 733.\n",
      "Falta dados para realizar a amostra. Logo, o teste é inviável.\n"
     ]
    }
   ],
   "source": [
    "# tamanho das amostra para compras realizadas no site no Canada\n",
    "sample_size_app_can = sample_size_site_by_country('CAN')"
   ]
  },
  {
   "cell_type": "markdown",
   "id": "42712ecf",
   "metadata": {},
   "source": [
    "# 2.0 - Prepação e Coleta dos Dados de Amostragem"
   ]
  },
  {
   "cell_type": "markdown",
   "id": "b8d814c8",
   "metadata": {},
   "source": [
    "## 2.1 - Preparação dos Dados"
   ]
  },
  {
   "cell_type": "markdown",
   "id": "a19037a2",
   "metadata": {},
   "source": [
    "### Verificar a dimensão dos Dados"
   ]
  },
  {
   "cell_type": "code",
   "execution_count": 28,
   "id": "2a93aa93",
   "metadata": {
    "ExecuteTime": {
     "end_time": "2022-12-12T18:16:02.681652Z",
     "start_time": "2022-12-12T18:16:02.672189Z"
    }
   },
   "outputs": [
    {
     "name": "stdout",
     "output_type": "stream",
     "text": [
      "Número de Linhas: 45883\n",
      "Número de Colunas: 8\n"
     ]
    }
   ],
   "source": [
    "print('Número de Linhas: {}'.format(df_raw.shape[0]))\n",
    "print('Número de Colunas: {}'.format(df_raw.shape[1]))"
   ]
  },
  {
   "cell_type": "markdown",
   "id": "4a7df3b4",
   "metadata": {
    "ExecuteTime": {
     "end_time": "2022-12-08T19:21:44.875273Z",
     "start_time": "2022-12-08T19:21:44.868258Z"
    }
   },
   "source": [
    "### Checagem de NA\n"
   ]
  },
  {
   "cell_type": "code",
   "execution_count": 29,
   "id": "216eb26c",
   "metadata": {
    "ExecuteTime": {
     "end_time": "2022-12-12T18:16:08.536952Z",
     "start_time": "2022-12-12T18:16:08.481069Z"
    }
   },
   "outputs": [
    {
     "data": {
      "text/plain": [
       "uid          0\n",
       "country      0\n",
       "gender       0\n",
       "spent        0\n",
       "purchases    0\n",
       "date         0\n",
       "group        0\n",
       "device       0\n",
       "dtype: int64"
      ]
     },
     "execution_count": 29,
     "metadata": {},
     "output_type": "execute_result"
    }
   ],
   "source": [
    "df_raw.isna().sum()"
   ]
  },
  {
   "cell_type": "markdown",
   "id": "13c78500",
   "metadata": {},
   "source": [
    "### Checagem das Duplicidades das Flags"
   ]
  },
  {
   "cell_type": "code",
   "execution_count": 30,
   "id": "e1be6224",
   "metadata": {
    "ExecuteTime": {
     "end_time": "2022-12-12T18:16:23.675104Z",
     "start_time": "2022-12-12T18:16:23.386076Z"
    }
   },
   "outputs": [
    {
     "data": {
      "text/html": [
       "<div>\n",
       "<style scoped>\n",
       "    .dataframe tbody tr th:only-of-type {\n",
       "        vertical-align: middle;\n",
       "    }\n",
       "\n",
       "    .dataframe tbody tr th {\n",
       "        vertical-align: top;\n",
       "    }\n",
       "\n",
       "    .dataframe thead th {\n",
       "        text-align: right;\n",
       "    }\n",
       "</style>\n",
       "<table border=\"1\" class=\"dataframe\">\n",
       "  <thead>\n",
       "    <tr style=\"text-align: right;\">\n",
       "      <th></th>\n",
       "      <th>uid</th>\n",
       "      <th>group</th>\n",
       "    </tr>\n",
       "  </thead>\n",
       "  <tbody>\n",
       "  </tbody>\n",
       "</table>\n",
       "</div>"
      ],
      "text/plain": [
       "Empty DataFrame\n",
       "Columns: [uid, group]\n",
       "Index: []"
      ]
     },
     "execution_count": 30,
     "metadata": {},
     "output_type": "execute_result"
    }
   ],
   "source": [
    "# Checagem da Duplicidade de Flags\n",
    "df_raw[['uid', 'group']].groupby('uid').count().reset_index().query('group > 2')"
   ]
  },
  {
   "cell_type": "markdown",
   "id": "681d8db8",
   "metadata": {},
   "source": [
    "### Verificação da Homogeneidade dos Dados dos Sites"
   ]
  },
  {
   "cell_type": "code",
   "execution_count": 31,
   "id": "e2a0963d",
   "metadata": {
    "ExecuteTime": {
     "end_time": "2022-12-12T18:16:34.949675Z",
     "start_time": "2022-12-12T18:16:34.913525Z"
    }
   },
   "outputs": [
    {
     "data": {
      "text/html": [
       "<div>\n",
       "<style scoped>\n",
       "    .dataframe tbody tr th:only-of-type {\n",
       "        vertical-align: middle;\n",
       "    }\n",
       "\n",
       "    .dataframe tbody tr th {\n",
       "        vertical-align: top;\n",
       "    }\n",
       "\n",
       "    .dataframe thead th {\n",
       "        text-align: right;\n",
       "    }\n",
       "</style>\n",
       "<table border=\"1\" class=\"dataframe\">\n",
       "  <thead>\n",
       "    <tr style=\"text-align: right;\">\n",
       "      <th></th>\n",
       "      <th></th>\n",
       "      <th>count</th>\n",
       "    </tr>\n",
       "    <tr>\n",
       "      <th>country</th>\n",
       "      <th>group</th>\n",
       "      <th></th>\n",
       "    </tr>\n",
       "  </thead>\n",
       "  <tbody>\n",
       "    <tr>\n",
       "      <th rowspan=\"2\" valign=\"top\">AUS</th>\n",
       "      <th>GRP A</th>\n",
       "      <td>239</td>\n",
       "    </tr>\n",
       "    <tr>\n",
       "      <th>GRP B</th>\n",
       "      <td>259</td>\n",
       "    </tr>\n",
       "    <tr>\n",
       "      <th rowspan=\"2\" valign=\"top\">BRA</th>\n",
       "      <th>GRP A</th>\n",
       "      <td>2310</td>\n",
       "    </tr>\n",
       "    <tr>\n",
       "      <th>GRP B</th>\n",
       "      <td>2207</td>\n",
       "    </tr>\n",
       "    <tr>\n",
       "      <th rowspan=\"2\" valign=\"top\">CAN</th>\n",
       "      <th>GRP A</th>\n",
       "      <td>361</td>\n",
       "    </tr>\n",
       "    <tr>\n",
       "      <th>GRP B</th>\n",
       "      <td>372</td>\n",
       "    </tr>\n",
       "    <tr>\n",
       "      <th rowspan=\"2\" valign=\"top\">DEU</th>\n",
       "      <th>GRP A</th>\n",
       "      <td>931</td>\n",
       "    </tr>\n",
       "    <tr>\n",
       "      <th>GRP B</th>\n",
       "      <td>917</td>\n",
       "    </tr>\n",
       "    <tr>\n",
       "      <th rowspan=\"2\" valign=\"top\">ESP</th>\n",
       "      <th>GRP A</th>\n",
       "      <td>521</td>\n",
       "    </tr>\n",
       "    <tr>\n",
       "      <th>GRP B</th>\n",
       "      <td>473</td>\n",
       "    </tr>\n",
       "    <tr>\n",
       "      <th rowspan=\"2\" valign=\"top\">FRA</th>\n",
       "      <th>GRP A</th>\n",
       "      <td>680</td>\n",
       "    </tr>\n",
       "    <tr>\n",
       "      <th>GRP B</th>\n",
       "      <td>694</td>\n",
       "    </tr>\n",
       "    <tr>\n",
       "      <th rowspan=\"2\" valign=\"top\">GBR</th>\n",
       "      <th>GRP A</th>\n",
       "      <td>684</td>\n",
       "    </tr>\n",
       "    <tr>\n",
       "      <th>GRP B</th>\n",
       "      <td>691</td>\n",
       "    </tr>\n",
       "    <tr>\n",
       "      <th rowspan=\"2\" valign=\"top\">MEX</th>\n",
       "      <th>GRP A</th>\n",
       "      <td>1435</td>\n",
       "    </tr>\n",
       "    <tr>\n",
       "      <th>GRP B</th>\n",
       "      <td>1355</td>\n",
       "    </tr>\n",
       "    <tr>\n",
       "      <th rowspan=\"2\" valign=\"top\">TUR</th>\n",
       "      <th>GRP A</th>\n",
       "      <td>935</td>\n",
       "    </tr>\n",
       "    <tr>\n",
       "      <th>GRP B</th>\n",
       "      <td>880</td>\n",
       "    </tr>\n",
       "    <tr>\n",
       "      <th rowspan=\"2\" valign=\"top\">USA</th>\n",
       "      <th>GRP A</th>\n",
       "      <td>3426</td>\n",
       "    </tr>\n",
       "    <tr>\n",
       "      <th>GRP B</th>\n",
       "      <td>3531</td>\n",
       "    </tr>\n",
       "  </tbody>\n",
       "</table>\n",
       "</div>"
      ],
      "text/plain": [
       "               count\n",
       "country group       \n",
       "AUS     GRP A    239\n",
       "        GRP B    259\n",
       "BRA     GRP A   2310\n",
       "        GRP B   2207\n",
       "CAN     GRP A    361\n",
       "        GRP B    372\n",
       "DEU     GRP A    931\n",
       "        GRP B    917\n",
       "ESP     GRP A    521\n",
       "        GRP B    473\n",
       "FRA     GRP A    680\n",
       "        GRP B    694\n",
       "GBR     GRP A    684\n",
       "        GRP B    691\n",
       "MEX     GRP A   1435\n",
       "        GRP B   1355\n",
       "TUR     GRP A    935\n",
       "        GRP B    880\n",
       "USA     GRP A   3426\n",
       "        GRP B   3531"
      ]
     },
     "execution_count": 31,
     "metadata": {},
     "output_type": "execute_result"
    }
   ],
   "source": [
    "(df_raw[['uid', 'group', 'country']][df_raw['device'] == 'I'].groupby(['country', 'group'])\n",
    "                                                       .agg(count =('uid', 'count') ))"
   ]
  },
  {
   "cell_type": "markdown",
   "id": "246270ce",
   "metadata": {},
   "source": [
    "### Verificação da Homogeneidade dos Dados do App"
   ]
  },
  {
   "cell_type": "code",
   "execution_count": 32,
   "id": "02b7e2f1",
   "metadata": {
    "ExecuteTime": {
     "end_time": "2022-12-12T18:16:45.983464Z",
     "start_time": "2022-12-12T18:16:45.949590Z"
    }
   },
   "outputs": [
    {
     "data": {
      "text/html": [
       "<div>\n",
       "<style scoped>\n",
       "    .dataframe tbody tr th:only-of-type {\n",
       "        vertical-align: middle;\n",
       "    }\n",
       "\n",
       "    .dataframe tbody tr th {\n",
       "        vertical-align: top;\n",
       "    }\n",
       "\n",
       "    .dataframe thead th {\n",
       "        text-align: right;\n",
       "    }\n",
       "</style>\n",
       "<table border=\"1\" class=\"dataframe\">\n",
       "  <thead>\n",
       "    <tr style=\"text-align: right;\">\n",
       "      <th></th>\n",
       "      <th></th>\n",
       "      <th>count</th>\n",
       "    </tr>\n",
       "    <tr>\n",
       "      <th>country</th>\n",
       "      <th>group</th>\n",
       "      <th></th>\n",
       "    </tr>\n",
       "  </thead>\n",
       "  <tbody>\n",
       "    <tr>\n",
       "      <th rowspan=\"2\" valign=\"top\">AUS</th>\n",
       "      <th>GRP A</th>\n",
       "      <td>267</td>\n",
       "    </tr>\n",
       "    <tr>\n",
       "      <th>GRP B</th>\n",
       "      <td>252</td>\n",
       "    </tr>\n",
       "    <tr>\n",
       "      <th rowspan=\"2\" valign=\"top\">BRA</th>\n",
       "      <th>GRP A</th>\n",
       "      <td>2208</td>\n",
       "    </tr>\n",
       "    <tr>\n",
       "      <th>GRP B</th>\n",
       "      <td>2284</td>\n",
       "    </tr>\n",
       "    <tr>\n",
       "      <th rowspan=\"2\" valign=\"top\">CAN</th>\n",
       "      <th>GRP A</th>\n",
       "      <td>337</td>\n",
       "    </tr>\n",
       "    <tr>\n",
       "      <th>GRP B</th>\n",
       "      <td>443</td>\n",
       "    </tr>\n",
       "    <tr>\n",
       "      <th rowspan=\"2\" valign=\"top\">DEU</th>\n",
       "      <th>GRP A</th>\n",
       "      <td>959</td>\n",
       "    </tr>\n",
       "    <tr>\n",
       "      <th>GRP B</th>\n",
       "      <td>889</td>\n",
       "    </tr>\n",
       "    <tr>\n",
       "      <th rowspan=\"2\" valign=\"top\">ESP</th>\n",
       "      <th>GRP A</th>\n",
       "      <td>449</td>\n",
       "    </tr>\n",
       "    <tr>\n",
       "      <th>GRP B</th>\n",
       "      <td>491</td>\n",
       "    </tr>\n",
       "    <tr>\n",
       "      <th rowspan=\"2\" valign=\"top\">FRA</th>\n",
       "      <th>GRP A</th>\n",
       "      <td>753</td>\n",
       "    </tr>\n",
       "    <tr>\n",
       "      <th>GRP B</th>\n",
       "      <td>715</td>\n",
       "    </tr>\n",
       "    <tr>\n",
       "      <th rowspan=\"2\" valign=\"top\">GBR</th>\n",
       "      <th>GRP A</th>\n",
       "      <td>702</td>\n",
       "    </tr>\n",
       "    <tr>\n",
       "      <th>GRP B</th>\n",
       "      <td>732</td>\n",
       "    </tr>\n",
       "    <tr>\n",
       "      <th rowspan=\"2\" valign=\"top\">MEX</th>\n",
       "      <th>GRP A</th>\n",
       "      <td>1451</td>\n",
       "    </tr>\n",
       "    <tr>\n",
       "      <th>GRP B</th>\n",
       "      <td>1287</td>\n",
       "    </tr>\n",
       "    <tr>\n",
       "      <th rowspan=\"2\" valign=\"top\">TUR</th>\n",
       "      <th>GRP A</th>\n",
       "      <td>860</td>\n",
       "    </tr>\n",
       "    <tr>\n",
       "      <th>GRP B</th>\n",
       "      <td>862</td>\n",
       "    </tr>\n",
       "    <tr>\n",
       "      <th rowspan=\"2\" valign=\"top\">USA</th>\n",
       "      <th>GRP A</th>\n",
       "      <td>3501</td>\n",
       "    </tr>\n",
       "    <tr>\n",
       "      <th>GRP B</th>\n",
       "      <td>3540</td>\n",
       "    </tr>\n",
       "  </tbody>\n",
       "</table>\n",
       "</div>"
      ],
      "text/plain": [
       "               count\n",
       "country group       \n",
       "AUS     GRP A    267\n",
       "        GRP B    252\n",
       "BRA     GRP A   2208\n",
       "        GRP B   2284\n",
       "CAN     GRP A    337\n",
       "        GRP B    443\n",
       "DEU     GRP A    959\n",
       "        GRP B    889\n",
       "ESP     GRP A    449\n",
       "        GRP B    491\n",
       "FRA     GRP A    753\n",
       "        GRP B    715\n",
       "GBR     GRP A    702\n",
       "        GRP B    732\n",
       "MEX     GRP A   1451\n",
       "        GRP B   1287\n",
       "TUR     GRP A    860\n",
       "        GRP B    862\n",
       "USA     GRP A   3501\n",
       "        GRP B   3540"
      ]
     },
     "execution_count": 32,
     "metadata": {},
     "output_type": "execute_result"
    }
   ],
   "source": [
    "(df_raw[['uid', 'group', 'country']][df_raw['device'] == 'A'].groupby(['country', 'group'])\n",
    "                                                             .agg(count =('uid', 'count') ))"
   ]
  },
  {
   "cell_type": "markdown",
   "id": "4e648a33",
   "metadata": {},
   "source": [
    "## 2.2 - Prepação e Coleta dos Dados de Amostragem dos Dados do Site"
   ]
  },
  {
   "cell_type": "markdown",
   "id": "219cbc20",
   "metadata": {},
   "source": [
    "### Brasil"
   ]
  },
  {
   "cell_type": "code",
   "execution_count": 33,
   "id": "1c515dbd",
   "metadata": {
    "ExecuteTime": {
     "end_time": "2022-12-12T18:17:13.655706Z",
     "start_time": "2022-12-12T18:17:13.629865Z"
    }
   },
   "outputs": [
    {
     "name": "stdout",
     "output_type": "stream",
     "text": [
      "Gasto Médio Grupo A: R$ 1927.8032786885246\n",
      "Gasto Médio Grupo B: R$ 1965.8333333333333\n"
     ]
    }
   ],
   "source": [
    "# Extraindo os dados da amostragem.\n",
    "df_site_brazil = df_raw[(df_raw['country'] == 'BRA') & (df_raw['device'] == 'I')].copy()\n",
    "\n",
    "# Realizando amostragem.\n",
    "df_sample_site_brazil = df_site_brazil.sample(n=sample_size_site_bra)\n",
    "\n",
    "# Separação de grupo de controle e tratamento\n",
    "df_control_brazil_site   = df_sample_site_brazil[df_sample_site_brazil['group'] == 'GRP A']['spent']\n",
    "df_treatment_brazil_site = df_sample_site_brazil[df_sample_site_brazil['group'] == 'GRP B']['spent']\n",
    "\n",
    "# Cálculo da Taxa de Conversão\n",
    "avg_spent_control   = np.mean(df_sample_site_brazil[df_sample_site_brazil['group'] == 'GRP A']['spent'].values)\n",
    "avg_spent_treatment = np.mean(df_sample_site_brazil[df_sample_site_brazil['group'] == 'GRP B']['spent'].values)\n",
    "\n",
    "# Exibição \n",
    "print('Gasto Médio Grupo A: R$ {}'.format(avg_spent_control))\n",
    "print('Gasto Médio Grupo B: R$ {}'.format(avg_spent_treatment))"
   ]
  },
  {
   "cell_type": "markdown",
   "id": "20914ccd",
   "metadata": {
    "ExecuteTime": {
     "end_time": "2022-12-07T19:14:29.298331Z",
     "start_time": "2022-12-07T19:14:29.291350Z"
    }
   },
   "source": [
    "### Mexico"
   ]
  },
  {
   "cell_type": "code",
   "execution_count": 34,
   "id": "fea19cea",
   "metadata": {
    "ExecuteTime": {
     "end_time": "2022-12-12T18:17:55.808989Z",
     "start_time": "2022-12-12T18:17:55.782948Z"
    }
   },
   "outputs": [
    {
     "name": "stdout",
     "output_type": "stream",
     "text": [
      "Gasto Médio Grupo A: R$ 1923.8946515397083\n",
      "Gasto Médio Grupo B: R$ 1828.438596491228\n"
     ]
    }
   ],
   "source": [
    "# Extração dos Dados\n",
    "df_site_mexico = df_raw[(df_raw['country'] == 'MEX') & (df_raw['device'] == 'I')].copy()\n",
    "\n",
    "# Realização da Amostragem\n",
    "df_sample_site_mexico = df_site_mexico.sample(n=sample_size_site_mex)\n",
    "\n",
    "# Separação de grupo de controle e tratamento\n",
    "df_control_mexico_site   = df_sample_site_mexico[df_sample_site_mexico['group'] == 'GRP A']['spent']\n",
    "df_treatment_mexico_site = df_sample_site_mexico[df_sample_site_mexico['group'] == 'GRP B']['spent']\n",
    "\n",
    "\n",
    "# Cálculo da Taxa de Conversão\n",
    "avg_spent_control   = np.mean(df_sample_site_mexico[df_sample_site_mexico['group'] == 'GRP A']['spent'].values)\n",
    "avg_spent_treatment = np.mean(df_sample_site_mexico[df_sample_site_mexico['group'] == 'GRP B']['spent'].values)\n",
    "\n",
    "# Exibição \n",
    "print('Gasto Médio Grupo A: R$ {}'.format(avg_spent_control))\n",
    "print('Gasto Médio Grupo B: R$ {}'.format(avg_spent_treatment))"
   ]
  },
  {
   "cell_type": "markdown",
   "id": "252bfbe1",
   "metadata": {
    "ExecuteTime": {
     "end_time": "2022-12-07T19:14:13.038369Z",
     "start_time": "2022-12-07T19:14:13.030389Z"
    }
   },
   "source": [
    "### USA"
   ]
  },
  {
   "cell_type": "code",
   "execution_count": 35,
   "id": "9bfa8013",
   "metadata": {
    "ExecuteTime": {
     "end_time": "2022-12-12T18:18:05.303709Z",
     "start_time": "2022-12-12T18:18:05.278774Z"
    }
   },
   "outputs": [
    {
     "name": "stdout",
     "output_type": "stream",
     "text": [
      "Gasto Médio Grupo A: R$ 1887.7792207792209\n",
      "Gasto Médio Grupo B: R$ 1834.033082706767\n"
     ]
    }
   ],
   "source": [
    "# Extração dos Dados\n",
    "df_site_usa = df_raw[(df_raw['country'] == 'USA') & (df_raw['device'] == 'I')].copy()\n",
    "\n",
    "# Realização da Amostragem\n",
    "df_sample_site_usa = df_site_usa.sample(n=sample_size_site_usa)\n",
    "\n",
    "# Separação de grupo de controle e tratamento\n",
    "df_control_usa_site   = df_sample_site_usa[df_sample_site_usa['group'] == 'GRP A']['spent']\n",
    "df_treatment_usa_site = df_sample_site_usa[df_sample_site_usa['group'] == 'GRP B']['spent']\n",
    "\n",
    "# Cálculo da Taxa de Conversão\n",
    "avg_spent_control   = np.mean(df_sample_site_usa[df_sample_site_usa['group'] == 'GRP A']['spent'].values)\n",
    "avg_spent_treatment = np.mean(df_sample_site_usa[df_sample_site_usa['group'] == 'GRP B']['spent'].values)\n",
    "\n",
    "# Exibição \n",
    "print('Gasto Médio Grupo A: R$ {}'.format(avg_spent_control))\n",
    "print('Gasto Médio Grupo B: R$ {}'.format(avg_spent_treatment))"
   ]
  },
  {
   "cell_type": "markdown",
   "id": "043c13f4",
   "metadata": {},
   "source": [
    "## 2.2 - Prepação e Coleta dos Dados de Amostragem dos Dados do App"
   ]
  },
  {
   "cell_type": "markdown",
   "id": "fb1eaf2e",
   "metadata": {},
   "source": [
    "### Brasil"
   ]
  },
  {
   "cell_type": "code",
   "execution_count": 36,
   "id": "1d1fedb0",
   "metadata": {
    "ExecuteTime": {
     "end_time": "2022-12-12T18:18:28.523401Z",
     "start_time": "2022-12-12T18:18:28.494445Z"
    }
   },
   "outputs": [
    {
     "name": "stdout",
     "output_type": "stream",
     "text": [
      "Gasto Médio Grupo A: R$ 1831.3187311178249\n",
      "Gasto Médio Grupo B: R$ 1935.5450516986707\n"
     ]
    }
   ],
   "source": [
    "# Extraindo os dados da amostrage.\n",
    "df_app_brazil = df_raw[(df_raw['country'] == 'BRA') & (df_raw['device'] == 'A')].copy()\n",
    "\n",
    "# Realizando amostragem.\n",
    "df_sample_app_brazil = df_app_brazil.sample(n=sample_size_app_bra)\n",
    "\n",
    "# Separação de grupo de controle e tratamento\n",
    "df_control_brazil_app   = df_sample_app_brazil[df_sample_app_brazil['group'] == 'GRP A']['spent']\n",
    "df_treatment_brazil_app = df_sample_app_brazil[df_sample_app_brazil['group'] == 'GRP B']['spent']\n",
    "\n",
    "\n",
    "# Cálculo da Taxa de Conversão\n",
    "avg_spent_control   = np.mean(df_sample_app_brazil[df_sample_app_brazil['group'] == 'GRP A']['spent'].values)\n",
    "avg_spent_treatment = np.mean(df_sample_app_brazil[df_sample_app_brazil['group'] == 'GRP B']['spent'].values)\n",
    "\n",
    "# Exibição \n",
    "print('Gasto Médio Grupo A: R$ {}'.format(avg_spent_control))\n",
    "print('Gasto Médio Grupo B: R$ {}'.format(avg_spent_treatment))"
   ]
  },
  {
   "cell_type": "markdown",
   "id": "7231a88b",
   "metadata": {},
   "source": [
    "### Mexico"
   ]
  },
  {
   "cell_type": "code",
   "execution_count": 37,
   "id": "1d82b0e0",
   "metadata": {
    "ExecuteTime": {
     "end_time": "2022-12-12T18:18:32.892437Z",
     "start_time": "2022-12-12T18:18:32.865512Z"
    }
   },
   "outputs": [
    {
     "name": "stdout",
     "output_type": "stream",
     "text": [
      "Gasto Médio Grupo A: R$ 1937.9923780487804\n",
      "Gasto Médio Grupo B: R$ 1928.0879478827362\n"
     ]
    }
   ],
   "source": [
    "# Extração dos Dados\n",
    "df_app_mexico = df_raw[(df_raw['country'] == 'MEX') & (df_raw['device'] == 'A')].copy()\n",
    "\n",
    "# REalização da Amostragem\n",
    "df_sample_app_mexico = df_app_mexico.sample(n=sample_size_app_mex)\n",
    "\n",
    "# Separação de grupo de controle e tratamento\n",
    "df_control_mexico_app   = df_sample_app_mexico[df_sample_app_mexico['group'] == 'GRP A']['spent']\n",
    "df_treatment_mexico_app = df_sample_app_mexico[df_sample_app_mexico['group'] == 'GRP B']['spent']\n",
    "\n",
    "\n",
    "# Cálculo da Taxa de Conversão\n",
    "avg_spent_control   = np.mean(df_sample_app_mexico[df_sample_app_mexico['group'] == 'GRP A']['spent'].values)\n",
    "avg_spent_treatment = np.mean(df_sample_app_mexico[df_sample_app_mexico['group'] == 'GRP B']['spent'].values)\n",
    "\n",
    "# Exibição \n",
    "print('Gasto Médio Grupo A: R$ {}'.format(avg_spent_control))\n",
    "print('Gasto Médio Grupo B: R$ {}'.format(avg_spent_treatment))"
   ]
  },
  {
   "cell_type": "markdown",
   "id": "87470ca2",
   "metadata": {},
   "source": [
    "### USA\n"
   ]
  },
  {
   "cell_type": "code",
   "execution_count": 38,
   "id": "068a8df8",
   "metadata": {
    "ExecuteTime": {
     "end_time": "2022-12-12T18:18:37.848883Z",
     "start_time": "2022-12-12T18:18:37.824950Z"
    }
   },
   "outputs": [
    {
     "name": "stdout",
     "output_type": "stream",
     "text": [
      "Gasto Médio Grupo A: R$ 1859.5940902021773\n",
      "Gasto Médio Grupo B: R$ 1814.0170015455951\n"
     ]
    }
   ],
   "source": [
    "# Extração dos Dados\n",
    "df_app_usa = df_raw[(df_raw['country'] == 'USA') & (df_raw['device'] == 'A')].copy()\n",
    "\n",
    "# Realização da Amostragem\n",
    "df_sample_app_usa = df_app_usa.sample(n=sample_size_app_usa)\n",
    "\n",
    "# Separação de grupo de controle e tratamento\n",
    "df_control_usa_app   = df_sample_app_usa[df_sample_app_usa['group'] == 'GRP A']['spent']\n",
    "df_treatment_usa_app = df_sample_app_usa[df_sample_app_usa['group'] == 'GRP B']['spent']\n",
    "\n",
    "# Cálculo da Taxa de Conversão\n",
    "avg_spent_control   = np.mean(df_sample_app_usa[df_sample_app_usa['group'] == 'GRP A']['spent'].values)\n",
    "avg_spent_treatment = np.mean(df_sample_app_usa[df_sample_app_usa['group'] == 'GRP B']['spent'].values)\n",
    "\n",
    "# Exibição \n",
    "print('Gasto Médio Grupo A: R$ {}'.format(avg_spent_control))\n",
    "print('Gasto Médio Grupo B: R$ {}'.format(avg_spent_treatment))"
   ]
  },
  {
   "cell_type": "markdown",
   "id": "b95b18d5",
   "metadata": {},
   "source": [
    "# 3.0 - Teste de Hipótese"
   ]
  },
  {
   "cell_type": "markdown",
   "id": "9ceb08ad",
   "metadata": {
    "ExecuteTime": {
     "end_time": "2022-12-07T20:13:49.259454Z",
     "start_time": "2022-12-07T20:13:49.239508Z"
    }
   },
   "source": [
    "**Qual o tipo dos Dados?** São dados Contínuos.\n",
    "\n",
    "**Qual o objetivo do teste?** Encontrar Diferenças.\n",
    "\n",
    "**Que tipo de diferenças?** Diferenças entre Médias.\n",
    "\n",
    "**Quantos Grupos?** Dois Grupos.\n",
    "\n",
    "- Teste de Shapiro sendo Válido: Two Sample Test.\n",
    "    \n",
    "- Teste de Shapiro não sendo Válido: Mann-Whitney U"
   ]
  },
  {
   "cell_type": "markdown",
   "id": "5aa643ad",
   "metadata": {},
   "source": [
    "## Brasil"
   ]
  },
  {
   "cell_type": "markdown",
   "id": "4951b63d",
   "metadata": {},
   "source": [
    "### Site"
   ]
  },
  {
   "cell_type": "code",
   "execution_count": 39,
   "id": "ffbf7299",
   "metadata": {
    "ExecuteTime": {
     "end_time": "2022-12-12T18:20:53.309358Z",
     "start_time": "2022-12-12T18:20:53.283395Z"
    }
   },
   "outputs": [
    {
     "name": "stdout",
     "output_type": "stream",
     "text": [
      "Dados do Grupo Controle são normalmente distribuídos.\n",
      "Dados do Grupo Tratamento são normalmente distribuídos.\n",
      "Dados possuem Variância igual.\n"
     ]
    }
   ],
   "source": [
    "# Realizar o teste de Shapiro\n",
    "stats_control, p_valor_control    = shapiro(df_control_brazil_site)\n",
    "stats_treatment, p_valor_treatment = shapiro(df_treatment_brazil_site)\n",
    "\n",
    "if p_valor_control < 0.05:\n",
    "    print('Dados do Grupo Controle são normalmente distribuídos.')\n",
    "else:\n",
    "        print('Dados do Grupo Controle não são normalmente distribuídos.')\n",
    "\n",
    "if p_valor_treatment < 0.05:\n",
    "    print('Dados do Grupo Tratamento são normalmente distribuídos.')\n",
    "else:\n",
    "        print('Dados do Grupo Tratamento não são normalmente distribuídos.')\n",
    "        \n",
    "# Teste de Variância\n",
    "var_control   = np.var(df_control_brazil_site)\n",
    "var_treatment = np.var(df_treatment_brazil_site)\n",
    "\n",
    "teste_var = var_control/var_treatment\n",
    "\n",
    "if teste_var < 4:\n",
    "    print('Dados possuem Variância igual.')\n",
    "else:\n",
    "    print('Dados não possuem variância Igual.')\n",
    "    "
   ]
  },
  {
   "cell_type": "code",
   "execution_count": 40,
   "id": "4e4eb649",
   "metadata": {
    "ExecuteTime": {
     "end_time": "2022-12-12T18:21:08.730389Z",
     "start_time": "2022-12-12T18:21:08.722205Z"
    }
   },
   "outputs": [
    {
     "name": "stdout",
     "output_type": "stream",
     "text": [
      "Falhamos em rejeitar a hipótese nula.\n"
     ]
    }
   ],
   "source": [
    "# Realização do Teste\n",
    "t_stats, p_valor = ttest_ind(df_control_brazil_site, df_treatment_brazil_site, equal_var=True, alternative='two-sided')\n",
    "\n",
    "if p_valor < 0.05:\n",
    "    print('Rejeitamos a Hipótese Nula.')\n",
    "else:\n",
    "    print('Falhamos em rejeitar a hipótese nula.')"
   ]
  },
  {
   "cell_type": "markdown",
   "id": "ff99a3f8",
   "metadata": {},
   "source": [
    "### App"
   ]
  },
  {
   "cell_type": "code",
   "execution_count": 41,
   "id": "dceff228",
   "metadata": {
    "ExecuteTime": {
     "end_time": "2022-12-12T18:21:38.175009Z",
     "start_time": "2022-12-12T18:21:38.158019Z"
    }
   },
   "outputs": [
    {
     "name": "stdout",
     "output_type": "stream",
     "text": [
      "Dados do Grupo Controle são normalmente distribuídos.\n",
      "Dados do Grupo Tratamento são normalmente distribuídos.\n",
      "Dados possuem Variância igual.\n"
     ]
    }
   ],
   "source": [
    "# Realizar o teste de Shapiro\n",
    "stats_control, p_valor_control     = shapiro(df_control_brazil_app)\n",
    "stats_treatment, p_valor_treatment = shapiro(df_treatment_brazil_app)\n",
    "\n",
    "if p_valor_control < 0.05:\n",
    "    print('Dados do Grupo Controle são normalmente distribuídos.')\n",
    "else:\n",
    "        print('Dados do Grupo Controle não são normalmente distribuídos.')\n",
    "\n",
    "if p_valor_treatment < 0.05:\n",
    "    print('Dados do Grupo Tratamento são normalmente distribuídos.')\n",
    "else:\n",
    "        print('Dados do Grupo Tratamento não são normalmente distribuídos.')\n",
    "        \n",
    "# Teste de Variância\n",
    "var_control   = np.var(df_control_brazil_app)\n",
    "var_treatment = np.var(df_treatment_brazil_app)\n",
    "\n",
    "teste_var = var_control/var_treatment\n",
    "\n",
    "if teste_var < 4:\n",
    "    print('Dados possuem Variância igual.')\n",
    "else:\n",
    "    print('Dados não possuem variância Igual.')\n",
    "    "
   ]
  },
  {
   "cell_type": "code",
   "execution_count": 42,
   "id": "011110aa",
   "metadata": {
    "ExecuteTime": {
     "end_time": "2022-12-12T18:21:46.462175Z",
     "start_time": "2022-12-12T18:21:46.445146Z"
    }
   },
   "outputs": [
    {
     "name": "stdout",
     "output_type": "stream",
     "text": [
      "Falhamos em rejeitar a hipótese nula.\n"
     ]
    }
   ],
   "source": [
    "# Realização do Teste\n",
    "t_stats, p_valor = ttest_ind(df_control_brazil_app, df_treatment_brazil_app, equal_var=True, alternative='two-sided')\n",
    "\n",
    "if p_valor < 0.05:\n",
    "    print('Rejeitamos a Hipótese Nula.')\n",
    "else:\n",
    "    print('Falhamos em rejeitar a hipótese nula.')"
   ]
  },
  {
   "cell_type": "markdown",
   "id": "c4702acf",
   "metadata": {
    "ExecuteTime": {
     "end_time": "2022-12-08T18:20:55.291061Z",
     "start_time": "2022-12-08T18:20:55.281089Z"
    }
   },
   "source": [
    "## México"
   ]
  },
  {
   "cell_type": "markdown",
   "id": "37e3714a",
   "metadata": {},
   "source": [
    "### Site"
   ]
  },
  {
   "cell_type": "code",
   "execution_count": 43,
   "id": "9b6ac582",
   "metadata": {
    "ExecuteTime": {
     "end_time": "2022-12-12T18:21:48.419923Z",
     "start_time": "2022-12-12T18:21:48.394962Z"
    }
   },
   "outputs": [
    {
     "name": "stdout",
     "output_type": "stream",
     "text": [
      "Dados do Grupo Controle são normalmente distribuídos.\n",
      "Dados do Grupo Tratamento são normalmente distribuídos.\n",
      "Dados possuem Variância igual.\n"
     ]
    }
   ],
   "source": [
    "# Realizar o teste de Shapiro\n",
    "stats_control, p_valor_control     = shapiro(df_control_mexico_site)\n",
    "stats_treatment, p_valor_treatment = shapiro(df_treatment_mexico_site)\n",
    "\n",
    "if p_valor_control < 0.05:\n",
    "    print('Dados do Grupo Controle são normalmente distribuídos.')\n",
    "else:\n",
    "        print('Dados do Grupo Controle não são normalmente distribuídos.')\n",
    "\n",
    "if p_valor_treatment < 0.05:\n",
    "    print('Dados do Grupo Tratamento são normalmente distribuídos.')\n",
    "else:\n",
    "        print('Dados do Grupo Tratamento não são normalmente distribuídos.')\n",
    "        \n",
    "# Teste de Variância\n",
    "var_control   = np.var(df_control_mexico_site)\n",
    "var_treatment = np.var(df_treatment_mexico_site)\n",
    "\n",
    "teste_var = var_control/var_treatment\n",
    "\n",
    "if teste_var < 4:\n",
    "    print('Dados possuem Variância igual.')\n",
    "else:\n",
    "    print('Dados não possuem variância Igual.')\n",
    "    "
   ]
  },
  {
   "cell_type": "code",
   "execution_count": 44,
   "id": "9d0e729a",
   "metadata": {
    "ExecuteTime": {
     "end_time": "2022-12-12T18:21:49.748271Z",
     "start_time": "2022-12-12T18:21:49.726267Z"
    }
   },
   "outputs": [
    {
     "name": "stdout",
     "output_type": "stream",
     "text": [
      "Falhamos em rejeitar a hipótese nula.\n"
     ]
    }
   ],
   "source": [
    "# Realização do Teste\n",
    "t_stats, p_valor = ttest_ind(df_control_mexico_site, df_treatment_mexico_site, equal_var=True,  alternative='two-sided')\n",
    "\n",
    "if p_valor < 0.05:\n",
    "    print('Rejeitamos a Hipótese Nula.')\n",
    "else:\n",
    "    print('Falhamos em rejeitar a hipótese nula.')"
   ]
  },
  {
   "cell_type": "markdown",
   "id": "f7962d75",
   "metadata": {},
   "source": [
    "### App"
   ]
  },
  {
   "cell_type": "code",
   "execution_count": 45,
   "id": "8e1acb85",
   "metadata": {
    "ExecuteTime": {
     "end_time": "2022-12-12T18:21:50.813156Z",
     "start_time": "2022-12-12T18:21:50.799824Z"
    }
   },
   "outputs": [
    {
     "name": "stdout",
     "output_type": "stream",
     "text": [
      "Dados do Grupo Controle são normalmente distribuídos.\n",
      "Dados do Grupo Tratamento são normalmente distribuídos.\n",
      "Dados possuem Variância igual.\n"
     ]
    }
   ],
   "source": [
    "# Realizar o teste de Shapiro\n",
    "stats_control, p_valor_control     = shapiro(df_control_mexico_app)\n",
    "stats_treatment, p_valor_treatment = shapiro(df_treatment_mexico_app)\n",
    "\n",
    "if p_valor_control < 0.05:\n",
    "    print('Dados do Grupo Controle são normalmente distribuídos.')\n",
    "else:\n",
    "        print('Dados do Grupo Controle não são normalmente distribuídos.')\n",
    "\n",
    "if p_valor_treatment < 0.05:\n",
    "    print('Dados do Grupo Tratamento são normalmente distribuídos.')\n",
    "else:\n",
    "        print('Dados do Grupo Tratamento não são normalmente distribuídos.')\n",
    "        \n",
    "# Teste de Variância\n",
    "var_control   = np.var(df_control_mexico_app)\n",
    "var_treatment = np.var(df_treatment_mexico_app)\n",
    "\n",
    "teste_var = var_control/var_treatment\n",
    "\n",
    "if teste_var < 4:\n",
    "    print('Dados possuem Variância igual.')\n",
    "else:\n",
    "    print('Dados não possuem variância Igual.')\n",
    "    "
   ]
  },
  {
   "cell_type": "code",
   "execution_count": 54,
   "id": "65b3552a",
   "metadata": {
    "ExecuteTime": {
     "end_time": "2022-12-12T18:24:52.147265Z",
     "start_time": "2022-12-12T18:24:52.130324Z"
    }
   },
   "outputs": [
    {
     "name": "stdout",
     "output_type": "stream",
     "text": [
      "Falhamos em rejeitar a hipótese nula.\n"
     ]
    }
   ],
   "source": [
    "# Realização do Teste\n",
    "t_stats, p_valor = ttest_ind(df_control_mexico_app, df_treatment_mexico_app, equal_var=True, alternative='two-sided')\n",
    "\n",
    "if p_valor < 0.05:\n",
    "    print('Rejeitamos a Hipótese Nula.')\n",
    "else:\n",
    "    print('Falhamos em rejeitar a hipótese nula.')"
   ]
  },
  {
   "cell_type": "markdown",
   "id": "db216c40",
   "metadata": {},
   "source": [
    "## USA"
   ]
  },
  {
   "cell_type": "markdown",
   "id": "d8c4455f",
   "metadata": {},
   "source": [
    "### Site"
   ]
  },
  {
   "cell_type": "code",
   "execution_count": 56,
   "id": "c047e0d5",
   "metadata": {
    "ExecuteTime": {
     "end_time": "2022-12-12T18:25:00.129638Z",
     "start_time": "2022-12-12T18:25:00.109655Z"
    }
   },
   "outputs": [
    {
     "name": "stdout",
     "output_type": "stream",
     "text": [
      "Dados do Grupo Controle são normalmente distribuídos.\n",
      "Dados do Grupo Tratamento são normalmente distribuídos.\n",
      "Dados possuem Variância igual.\n"
     ]
    }
   ],
   "source": [
    "# Realizar o teste de Shapiro\n",
    "stats_control, p_valor_control     = shapiro(df_control_usa_site)\n",
    "stats_treatment, p_valor_treatment = shapiro(df_treatment_usa_site)\n",
    "\n",
    "if p_valor_control < 0.05:\n",
    "    print('Dados do Grupo Controle são normalmente distribuídos.')\n",
    "else:\n",
    "        print('Dados do Grupo Controle não são normalmente distribuídos.')\n",
    "\n",
    "if p_valor_treatment < 0.05:\n",
    "    print('Dados do Grupo Tratamento são normalmente distribuídos.')\n",
    "else:\n",
    "        print('Dados do Grupo Tratamento não são normalmente distribuídos.')\n",
    "        \n",
    "# Teste de Variância\n",
    "var_control   = np.var(df_control_usa_site)\n",
    "var_treatment = np.var(df_treatment_usa_site)\n",
    "\n",
    "teste_var = var_control/var_treatment\n",
    "\n",
    "if teste_var < 4:\n",
    "    print('Dados possuem Variância igual.')\n",
    "else:\n",
    "    print('Dados não possuem variância Igual.')\n",
    "    "
   ]
  },
  {
   "cell_type": "code",
   "execution_count": 57,
   "id": "7e7ad23e",
   "metadata": {
    "ExecuteTime": {
     "end_time": "2022-12-12T18:25:01.084402Z",
     "start_time": "2022-12-12T18:25:01.071347Z"
    }
   },
   "outputs": [
    {
     "name": "stdout",
     "output_type": "stream",
     "text": [
      "Falhamos em rejeitar a hipótese nula.\n"
     ]
    }
   ],
   "source": [
    "# Realização do Teste\n",
    "t_stats, p_valor = ttest_ind(df_control_usa_site, df_treatment_usa_site, equal_var=True,  alternative='two-sided')\n",
    "\n",
    "if p_valor < 0.05:\n",
    "    print('Rejeitamos a Hipótese Nula.')\n",
    "else:\n",
    "    print('Falhamos em rejeitar a hipótese nula.')"
   ]
  },
  {
   "cell_type": "markdown",
   "id": "52078d71",
   "metadata": {},
   "source": [
    "### App"
   ]
  },
  {
   "cell_type": "code",
   "execution_count": 58,
   "id": "95e01617",
   "metadata": {
    "ExecuteTime": {
     "end_time": "2022-12-12T18:25:02.457968Z",
     "start_time": "2022-12-12T18:25:02.442010Z"
    }
   },
   "outputs": [
    {
     "name": "stdout",
     "output_type": "stream",
     "text": [
      "Dados do Grupo Controle são normalmente distribuídos.\n",
      "Dados do Grupo Tratamento são normalmente distribuídos.\n",
      "Dados possuem Variância igual.\n"
     ]
    }
   ],
   "source": [
    "# Realizar o teste de Shapiro\n",
    "stats_control, p_valor_control     = shapiro(df_control_usa_app)\n",
    "stats_treatment, p_valor_treatment = shapiro(df_treatment_usa_app)\n",
    "\n",
    "if p_valor_control < 0.05:\n",
    "    print('Dados do Grupo Controle são normalmente distribuídos.')\n",
    "else:\n",
    "        print('Dados do Grupo Controle não são normalmente distribuídos.')\n",
    "\n",
    "if p_valor_treatment < 0.05:\n",
    "    print('Dados do Grupo Tratamento são normalmente distribuídos.')\n",
    "else:\n",
    "        print('Dados do Grupo Tratamento não são normalmente distribuídos.')\n",
    "        \n",
    "# Teste de Variância\n",
    "var_control   = np.var(df_control_usa_app)\n",
    "var_treatment = np.var(df_treatment_usa_app)\n",
    "\n",
    "teste_var = var_control/var_treatment\n",
    "\n",
    "if teste_var < 4:\n",
    "    print('Dados possuem Variância igual.')\n",
    "else:\n",
    "    print('Dados não possuem variância Igual.')\n",
    "    "
   ]
  },
  {
   "cell_type": "code",
   "execution_count": 59,
   "id": "cd18032c",
   "metadata": {
    "ExecuteTime": {
     "end_time": "2022-12-12T18:25:03.533381Z",
     "start_time": "2022-12-12T18:25:03.517458Z"
    }
   },
   "outputs": [
    {
     "name": "stdout",
     "output_type": "stream",
     "text": [
      "Falhamos em rejeitar a hipótese nula.\n"
     ]
    }
   ],
   "source": [
    "# Realização do Teste\n",
    "t_stats, p_valor = ttest_ind(df_control_usa_app, df_treatment_usa_app, equal_var=True, alternative='two-sided')\n",
    "\n",
    "if p_valor < 0.05:\n",
    "    print('Rejeitamos a Hipótese Nula.')\n",
    "else:\n",
    "    print('Falhamos em rejeitar a hipótese nula.')"
   ]
  },
  {
   "cell_type": "markdown",
   "id": "e1b530eb",
   "metadata": {
    "ExecuteTime": {
     "end_time": "2022-12-08T19:37:27.146969Z",
     "start_time": "2022-12-08T19:37:27.142980Z"
    }
   },
   "source": [
    "# Relatório Final"
   ]
  },
  {
   "cell_type": "markdown",
   "id": "81c0fe34",
   "metadata": {},
   "source": [
    "Não conseguimos seguir com o experimento na Espanha, Grã-Bretanha, Turquia, Alemanha, França, Austrália e Canadá, pois faltam dados para realizar a amostra. Tanto para os dados do site quanto para os dados do App.\n",
    "\n",
    "Portanto, informamos ao Head de Designers que não há dados suficientes para para realizar a inferência sobre esses países. Logo, a estratégia a ser tomada é:\n",
    "\n",
    "1. Realizar uma maior coleta de dados. \n",
    "    \n",
    "    - Nessa situação, é importante ter em mente qual vai ser o custo desta coleta de mais amostras para que se tenha uma quantidade mínima para observar se há um lift de 8% na média de gastos dos clientes.\n"
   ]
  },
  {
   "cell_type": "markdown",
   "id": "65c33a0d",
   "metadata": {},
   "source": [
    "Para os dados do Brasil, México e Estados Unidos, não houve diferença na média de gastos utilizando o formulário automático ou manual, tanto pelo site quanto pelo app.\n",
    "\n",
    "Nesse contexto, podemos tomar a seguinte atitude com o Head de Designers.\n",
    "\n",
    "1. Informar ao Head de Designers para solicitar a sua equipe uma melhoria no design do formulário automático.\n",
    "\n",
    "    - Nessa situação, com uma melhoria no formulário, é esperado que se observe um efeito maior na quantidade média de gastos, isto é, um maior lift esperado em relação ao formulário manual.\n",
    "    \n",
    "    \n",
    "2. Informar ao Head de Designers para solicitar uma nova amostragem.\n",
    "    \n",
    "    - Nessa situação, é primordial saber os custos e o tempo necessário para se realizar uma nova coleta de dados, pois com essas informações saberemos se com o lift esperado do formulário automático valerá a pena realizar essa nova coleta de dados."
   ]
  }
 ],
 "metadata": {
  "kernelspec": {
   "display_name": "Python 3 (ipykernel)",
   "language": "python",
   "name": "python3"
  },
  "language_info": {
   "codemirror_mode": {
    "name": "ipython",
    "version": 3
   },
   "file_extension": ".py",
   "mimetype": "text/x-python",
   "name": "python",
   "nbconvert_exporter": "python",
   "pygments_lexer": "ipython3",
   "version": "3.8.0"
  }
 },
 "nbformat": 4,
 "nbformat_minor": 5
}
