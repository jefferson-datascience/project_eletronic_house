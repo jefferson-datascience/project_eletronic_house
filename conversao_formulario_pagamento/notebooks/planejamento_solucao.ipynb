{
 "cells": [
  {
   "cell_type": "markdown",
   "id": "d925f0ab",
   "metadata": {},
   "source": [
    "## Planejamento de Solução (IoT)"
   ]
  },
  {
   "cell_type": "markdown",
   "id": "c347fd2b",
   "metadata": {
    "ExecuteTime": {
     "end_time": "2022-12-06T11:17:20.163746Z",
     "start_time": "2022-12-06T11:17:20.147790Z"
    }
   },
   "source": [
    "### Input"
   ]
  },
  {
   "cell_type": "markdown",
   "id": "90c122c3",
   "metadata": {},
   "source": [
    "#### Problema de Negócio"
   ]
  },
  {
   "cell_type": "markdown",
   "id": "317143ae",
   "metadata": {},
   "source": [
    "A Electronic House é um comercio online ( e-commerce ) de produtos de informática para casas e escritórios. Os clientes podem comprar mouses, monitores, teclados, computadores, laptops, cabos HDMI, fones de ouvido, cameras webcam, entreoutros, através de um site online e recebem os produtos no conforto de suas casas.\n",
    "\n",
    "Os produtos não são vendidos somente no Brasil, a Eletronic House está presente em diversos países da Europa e da América do Norte. O Diretor de Produtos Global pediu ao Head de Design que desenvolvesse uma nova forma de finalizar a compra com cartão de crédito, sem a necessidade do cliente preencher manualmente todas as informações do cartão e que funcionasse em todos os países. Depois de meses desenvolvendo esse dispositivo, o time de Desenvolvimento Backend entregou uma solução de pagamentos, na qual 90% das informações do formulário eram preenchido automaticamente.\n",
    "\n",
    "O Head de Designer gostaria de medir a efetividade do novo dispositivo de preenchimento automático dos dados do cartão de crédito na página de vendas e reportar os resultados ao Diretor de Produtos Global, para concluir se a nova forma de pagamento é realmente melhor do que a antiga.\n",
    "\n",
    "As duas páginas foram colocadas no ar e durante alguns meses o time de Front-End desenvolveu uma automação que atribui um rótulo para cada cliente, mostrando qual a página de vendas aquele determinado cliente estava visualizando.\n",
    "\n",
    "Todos esses dados foram armazenados em um banco de dados e podem ser acessados pelos times da Electronic House."
   ]
  },
  {
   "cell_type": "markdown",
   "id": "9bf8f973",
   "metadata": {},
   "source": [
    "Depois de alguns meses de experimento, o time de Designers da Electronic House, precisa avaliar os resultados do experimento realizado, a fim de concluir qual era a forma de pagamento mais eficaz. Porém, o time não possui as habilidades necessárias para avaliar os dados e concluir o experimento. Nesse contexto, a empresa precisa dos nossos serviços de Cientista de Dados para ajudar o time de Designers a validar a efetividade do novo meio de pagamento, com mais confiança e rigidez na análise.\n",
    "\n",
    "Conversando com O head de Designers, descobriu-se que o lift esperado é de 8% na média de gastos."
   ]
  },
  {
   "cell_type": "markdown",
   "id": "6212acc6",
   "metadata": {},
   "source": [
    "#### Questão de Negócio"
   ]
  },
  {
   "cell_type": "markdown",
   "id": "48a415d4",
   "metadata": {},
   "source": [
    "1. Qual a melhor forma de pagamento: Preenchimento Manual ou Automático do formulário de dados do cartão de crédito?"
   ]
  },
  {
   "cell_type": "markdown",
   "id": "9d902a4f",
   "metadata": {},
   "source": [
    "#### Fonte de Dados"
   ]
  },
  {
   "cell_type": "markdown",
   "id": "aec8fe2c",
   "metadata": {},
   "source": [
    " https://drive.google.com/file/d/1oUJLeAgSaUI7CA-0F14KG0FzXEim7pSe/view"
   ]
  },
  {
   "cell_type": "markdown",
   "id": "1c476987",
   "metadata": {},
   "source": [
    "### Output"
   ]
  },
  {
   "cell_type": "markdown",
   "id": "5d1823af",
   "metadata": {},
   "source": [
    "- Um texto informando qual página teve a melhor conversão.\n",
    "- Caso o novo formulário seja mais efetivo, um gráfico apresentando o poder de conversão do novo formulário em relação ao formulário antigo. "
   ]
  },
  {
   "cell_type": "markdown",
   "id": "57954a18",
   "metadata": {
    "ExecuteTime": {
     "end_time": "2022-12-06T11:23:41.139381Z",
     "start_time": "2022-12-06T11:23:41.121429Z"
    }
   },
   "source": [
    "### Task"
   ]
  },
  {
   "cell_type": "markdown",
   "id": "78de6ae0",
   "metadata": {},
   "source": [
    "**Questão 1:** Qual a melhor forma de pagamento: Preenchimento Manual ou Automático do formulário de dados do cartão de crédito?\n",
    "\n",
    "1. Escolhar o Método para resolver esse problema:\n",
    "\n",
    "    - Teste de Hipótese + Teste A/B\n",
    "    \n",
    "    \n",
    "2. Design de Experimento:\n",
    "\n",
    "    - Formulação da Hipótese Nula, Hipótese Alternativa, Determinação da Métrica.\n",
    "    - Escolher os parâmetros para determinar o tamanho da amostra e determinar o tamanho da amostra. \n",
    "    \n",
    "\n",
    "3. Preparação dos dados e Coleta dos Dados de Amostra:\n",
    "\n",
    "    - Os dados da amostra já estão coletados. \n",
    "    - Preparação dos dados: Dimensão dos Dados, checagem de NA's, preenchimento das NA's, limpeza dos dados\n",
    "    - Remover Duplicidade das Flags\n",
    "    - Realização da Reamostragem.\n",
    "    - Cálculo da Taxa de Conversão dos Grupos.\n",
    "    \n",
    "    \n",
    "4. Teste de Hipótese\n",
    "    \n",
    "    - Determinar o teste correto para o problema.\n",
    "    - Realizar a inferência para o cálculo do p-valor e comparar com o nível de significância para aceitar ou rejeitar a hipótese nula.\n",
    "    \n",
    "    \n",
    "5. Responder as questões.\n",
    " "
   ]
  },
  {
   "cell_type": "code",
   "execution_count": null,
   "id": "587f573c",
   "metadata": {},
   "outputs": [],
   "source": []
  }
 ],
 "metadata": {
  "kernelspec": {
   "display_name": "Python 3 (ipykernel)",
   "language": "python",
   "name": "python3"
  },
  "language_info": {
   "codemirror_mode": {
    "name": "ipython",
    "version": 3
   },
   "file_extension": ".py",
   "mimetype": "text/x-python",
   "name": "python",
   "nbconvert_exporter": "python",
   "pygments_lexer": "ipython3",
   "version": "3.8.0"
  }
 },
 "nbformat": 4,
 "nbformat_minor": 5
}
